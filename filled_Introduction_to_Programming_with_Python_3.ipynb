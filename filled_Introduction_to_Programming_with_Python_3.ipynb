{
 "cells": [
  {
   "cell_type": "markdown",
   "source": [
    "# Introduction to Programming with Python - Part 3\n",
    "\n",
    "##  Setup\n",
    "\n",
    "With this Google Colaboratory (Colab) notebook open, click the \"Copy to Drive\" button that appears in the menu bar. The notebook will then be attached to your own user account, so you can edit it in any way you like -- you can even take notes directly in the notebook.\n",
    "\n",
    "## Instructors\n",
    "\n",
    "- Ashley Evans Bandy\n",
    "- Claire Cahoon\n",
    "- Walt Gurley\n",
    "- Natalia Lopez\n",
    "\n",
    "## Learning objectives\n",
    "\n",
    "By the end of our workshop today, we hope you'll build on basic Python syntax to understand functions and reading and writing files. With these in hand, you'll know enough to write and apply basic scripts and explore other features of the language.  \n",
    "\n",
    "## Today's Topics\n",
    "- Functions\n",
    "- Reading and writing files\n",
    "\n",
    "If you would like to learn more about data analysis using Python, we will explore these topics in our Python Open Lab series.\n",
    "\n",
    "For a reference to previous workshop content, you can access a version of the previous workshop materials with all example and exercise code completed in the [Introduction to Programming with Python - Part 1 filled notebook](https://colab.research.google.com/github/NCSU-Libraries/data-viz-workshops/blob/master/Introduction_to_Programming_with_Python/filled_Introduction_to_Programming_with_Python_1.ipynb).\n",
    "\n",
    "TODO: update this link\n",
    "\n",
    "## Questions during the workshop\n",
    "\n",
    "Please feel free to ask questions throughout the workshop.\n",
    "\n",
    "We have a second instructor who will available during the workshop. They will answer as able, and will collect questions with answers that might help everyone to be answered at the end of the workshop."
   ],
   "metadata": {}
  },
  {
   "cell_type": "markdown",
   "source": [
    "## Functions\n",
    "\n",
    "At the most basic level, functions are chunks of reusable code. A function can accept data, passed in as arguments, and return data.\n",
    "\n",
    "To learn more about functions:\n",
    "\n",
    "- [\"Functions\" chapter of *A Byte of Python*](https://python.swaroopch.com/functions.html)\n",
    "- [Python documentation for defining functions](https://docs.python.org/3/tutorial/controlflow.html#defining-functions)"
   ],
   "metadata": {}
  },
  {
   "cell_type": "code",
   "execution_count": 19,
   "source": [
    "# Define a function that prints out a hello message -- note use of indenting!\n",
    "def print_hello():\n",
    "  print(\"Hello, it's nice to see you!\")\n",
    "\n",
    "# Call the print_hello function to run the code contained in the function\n",
    "print_hello()\n",
    "\n",
    "# Print the type of the value returned from calling the print_hello function\n",
    "type(print_hello())"
   ],
   "outputs": [
    {
     "output_type": "stream",
     "name": "stdout",
     "text": [
      "Hello, it's nice to see you!\n",
      "Hello, it's nice to see you!\n"
     ]
    },
    {
     "output_type": "execute_result",
     "data": {
      "text/plain": [
       "NoneType"
      ]
     },
     "metadata": {},
     "execution_count": 19
    }
   ],
   "metadata": {
    "colab": {
     "base_uri": "https://localhost:8080/"
    },
    "executionInfo": {
     "elapsed": 265,
     "status": "ok",
     "timestamp": 1613508328055,
     "user": {
      "displayName": "Walt Gurley",
      "photoUrl": "https://lh3.googleusercontent.com/a-/AOh14Gg9eQ8NtdhzyTtyTqhb-4LANYN8W8pA7TUUhK54=s64",
      "userId": "03624837261806285415"
     },
     "user_tz": 300
    },
    "id": "DuPwMqK5A4BN",
    "outputId": "ea2c2b1c-7a76-404d-a7c9-e96f2964194b"
   }
  },
  {
   "cell_type": "markdown",
   "source": [
    "### Returning data from a function\n",
    "\n",
    "The `hello` function above does not return any data, it only calls a `print` statement. We cannot do anything with this function beyond printing a message. We can use the special `return` keyword to return a value when the function is called"
   ],
   "metadata": {}
  },
  {
   "cell_type": "code",
   "execution_count": 20,
   "source": [
    "# Define a function that returns a hello message\n",
    "def return_hello():\n",
    "    return \"Hello, it's nice to see you!\"\n",
    "\n",
    "# Call the return_hello function\n",
    "return_hello()\n",
    "\n",
    "# Print the type of the return value of the return_hello function\n",
    "type(return_hello())"
   ],
   "outputs": [
    {
     "output_type": "execute_result",
     "data": {
      "text/plain": [
       "str"
      ]
     },
     "metadata": {},
     "execution_count": 20
    }
   ],
   "metadata": {}
  },
  {
   "cell_type": "markdown",
   "source": [
    "Return values can be stored in variables and used just like other values"
   ],
   "metadata": {}
  },
  {
   "cell_type": "code",
   "execution_count": 21,
   "source": [
    "hello = return_hello()\n",
    "hello.upper()"
   ],
   "outputs": [
    {
     "output_type": "execute_result",
     "data": {
      "text/plain": [
       "\"HELLO, IT'S NICE TO SEE YOU!\""
      ]
     },
     "metadata": {},
     "execution_count": 21
    }
   ],
   "metadata": {}
  },
  {
   "cell_type": "markdown",
   "source": [
    "### Passing arguments to a function"
   ],
   "metadata": {}
  },
  {
   "cell_type": "code",
   "execution_count": null,
   "source": [
    "# Define a function that returns a hello message\n",
    "def return_hello_personal(name, workshop):\n",
    "    return \"Hello \" + name + \", it's nice to see you at \" + workshop + \" today!\""
   ],
   "outputs": [],
   "metadata": {}
  },
  {
   "cell_type": "markdown",
   "source": [
    "### Using functions"
   ],
   "metadata": {}
  },
  {
   "cell_type": "code",
   "execution_count": 22,
   "source": [
    "# Define a function that replaces periods with exclamation marks in a string\n",
    "def replace_period(string):\n",
    "  new_string = \"\"\n",
    "  for char in string:\n",
    "    if char == \".\":\n",
    "      new_string = new_string + \"!\"\n",
    "    else:\n",
    "      new_string = new_string + char\n",
    "  return new_string\n",
    "\n",
    "# Call the function on a string that contains periods\n",
    "replace_period(\"This. is. a. boring. sentence.\")"
   ],
   "outputs": [
    {
     "output_type": "execute_result",
     "data": {
      "text/plain": [
       "'This! is! a! boring! sentence!'"
      ]
     },
     "metadata": {},
     "execution_count": 22
    }
   ],
   "metadata": {}
  },
  {
   "cell_type": "markdown",
   "source": [
    "**Try it yourself:** Create a function named `add_nums` that takes two numbers as arguments and returns the results of adding these two numbers"
   ],
   "metadata": {}
  },
  {
   "cell_type": "code",
   "execution_count": 1,
   "source": [
    "# A function that returns the results of adding two numbers passed as arguments\n",
    "def add_nums(num_1, num_2):\n",
    "    return num_1 + num_2\n",
    "\n",
    "add_nums(5, 3)"
   ],
   "outputs": [
    {
     "output_type": "execute_result",
     "data": {
      "text/plain": [
       "8"
      ]
     },
     "metadata": {},
     "execution_count": 1
    }
   ],
   "metadata": {}
  },
  {
   "cell_type": "markdown",
   "source": [
    "**Bonus Try it yourself:** Create a function named `sum_nums` that takes a list of numbers and returns the sum of those humbers\n"
   ],
   "metadata": {}
  },
  {
   "cell_type": "code",
   "execution_count": 4,
   "source": [
    "# A function that returns the sum of a list of numbers\n",
    "def sum_nums(nums):\n",
    "    running_sum = 0\n",
    "    for num in nums:\n",
    "        running_sum += num\n",
    "    return running_sum\n",
    "    \n",
    "sum_nums([10, 20, 20, 50])"
   ],
   "outputs": [
    {
     "output_type": "execute_result",
     "data": {
      "text/plain": [
       "100"
      ]
     },
     "metadata": {},
     "execution_count": 4
    }
   ],
   "metadata": {}
  },
  {
   "cell_type": "markdown",
   "source": [
    "## Reading and writing files\n",
    "\n",
    "Working with comma-separated and similar data files will be covered in a later workshop. It's worthwhile, however, to see how to read and write data or text to and from a file. We'll start with writing some text to a file, then explore how to read it."
   ],
   "metadata": {}
  },
  {
   "cell_type": "markdown",
   "source": [
    "### Write to a file"
   ],
   "metadata": {}
  },
  {
   "cell_type": "code",
   "execution_count": 5,
   "source": [
    "# Sample text to write to a file\n",
    "sample_text = \"\"\"\n",
    "Cats and kittens everywhere,\n",
    "Hundreds of cats,\n",
    "Thousands of cats,\n",
    "Millions and billions and trillions of cats.\n",
    "\"\"\"\n",
    "\n",
    "# Write the sample text to a file (test different open modes)\n",
    "with open('cat_text.txt', 'w') as f:\n",
    "    f.write(sample_text)\n",
    "    \n",
    "# You might sometimes see an older pattern:\n",
    "# f = open('lorem.txt', 'w')\n",
    "# f.write(sample_text)\n",
    "# f.close()"
   ],
   "outputs": [],
   "metadata": {}
  },
  {
   "cell_type": "markdown",
   "source": [
    "You can check the \"Files\" tab in the column at left now to find the output file.\n",
    "Note that you must click the REFRESH\" button to see it."
   ],
   "metadata": {}
  },
  {
   "cell_type": "markdown",
   "source": [
    "### Read from a file"
   ],
   "metadata": {}
  },
  {
   "cell_type": "code",
   "execution_count": 6,
   "source": [
    "# Read the newly created file.\n",
    "with open('cat_text.txt', 'r') as f:\n",
    "    print(f.read())"
   ],
   "outputs": [
    {
     "output_type": "stream",
     "name": "stdout",
     "text": [
      "\n",
      "Cats and kittens everywhere,\n",
      "Hundreds of cats,\n",
      "Thousands of cats,\n",
      "Millions and billions and trillions of cats.\n",
      "\n"
     ]
    }
   ],
   "metadata": {}
  },
  {
   "cell_type": "code",
   "execution_count": 7,
   "source": [
    "# We can also read the file line by line\n",
    "with open('cat_text.txt', 'r') as f:\n",
    "    for line in f:\n",
    "        line = line.replace('\\n', 'END')\n",
    "        print(line)"
   ],
   "outputs": [
    {
     "output_type": "stream",
     "name": "stdout",
     "text": [
      "END\n",
      "Cats and kittens everywhere,END\n",
      "Hundreds of cats,END\n",
      "Thousands of cats,END\n",
      "Millions and billions and trillions of cats.END\n"
     ]
    }
   ],
   "metadata": {}
  },
  {
   "cell_type": "markdown",
   "source": [
    "#### Parsing data read from a file\n",
    "\n",
    "External data we read into our application is often not formatted for our desired manipulations or analyses. We often have to parse the data from a file into a structure that is appropriate for manipulation or analysis."
   ],
   "metadata": {}
  },
  {
   "cell_type": "code",
   "execution_count": 8,
   "source": [
    "# Create an empty list to store the data we will parse\n",
    "data = []\n",
    "\n",
    "# Read in the cat_text file line by line\n",
    "with open('cat_text.txt', 'r') as f:\n",
    "    for line in f:\n",
    "        line = line.rstrip('\\n')\n",
    "        line = line.split(' ')\n",
    "        data.append(line)\n",
    "\n",
    "# Print out the resulting list\n",
    "data"
   ],
   "outputs": [
    {
     "output_type": "execute_result",
     "data": {
      "text/plain": [
       "[[''],\n",
       " ['Cats', 'and', 'kittens', 'everywhere,'],\n",
       " ['Hundreds', 'of', 'cats,'],\n",
       " ['Thousands', 'of', 'cats,'],\n",
       " ['Millions', 'and', 'billions', 'and', 'trillions', 'of', 'cats.']]"
      ]
     },
     "metadata": {},
     "execution_count": 8
    }
   ],
   "metadata": {}
  },
  {
   "cell_type": "markdown",
   "source": [
    "### Activity: Parse a text file containing data seperated by semicolons (10 min)\n",
    "\n",
    "We have membership information for 25 members of the *International Cats of Mystery* service stored in the file `international_cats_of_mystery.txt`. The file is formatted as follows:\n",
    "\n",
    "1. Each line is seperated by a newline character (`\\n`)\n",
    "\n",
    "1. The first line in the file contains the data variable names (e.g., Name, Joined, Subscriptions)\n",
    "\n",
    "1. Each subsequent line contains the data variable values for one member (e.g., Bill, 2015, Little Known Hiss-tories podcast)\n",
    "\n",
    "1. Each variable name or value is seperated by semicolons (`;`)\n",
    "\n",
    "Use a file parsing method to parse the `international_cats_of_mystery.txt` file to create a list that contains lists of values from each line in the file. The first two items in this list should be:\n",
    "\n",
    "```python\n",
    "[\n",
    "  ['Name', 'Joined', 'Subscriptions'],\n",
    "  ['Bill', '2015', 'Little Known Hiss-tories podcast'],\n",
    "  ...\n",
    "]\n",
    "```"
   ],
   "metadata": {}
  },
  {
   "cell_type": "code",
   "execution_count": 13,
   "source": [
    "# Fetch the text file for the activity\n",
    "!curl https://raw.githubusercontent.com/ncsu-libraries-data-vis/introduction-to-programming-with-python/main/International_cats_of_mystery_US_chapter.txt -o international_cats_of_mystery.txt"
   ],
   "outputs": [
    {
     "output_type": "stream",
     "name": "stdout",
     "text": [
      "  % Total    % Received % Xferd  Average Speed   Time    Time     Time  Current\n",
      "                                 Dload  Upload   Total   Spent    Left  Speed\n",
      "100  2667  100  2667    0     0  13073      0 --:--:-- --:--:-- --:--:-- 13137\n"
     ]
    }
   ],
   "metadata": {}
  },
  {
   "cell_type": "code",
   "execution_count": 24,
   "source": [
    "# Parse the data in the \"international_cats_of_mystery.txt\" file\n",
    "member_data = []\n",
    "\n",
    "with open('international_cats_of_mystery.txt') as f:\n",
    "    for line in f:\n",
    "        line = line.rstrip('\\n')\n",
    "        member_data.append(line.split(';'))\n",
    "\n",
    "member_data[:3]"
   ],
   "outputs": [
    {
     "output_type": "execute_result",
     "data": {
      "text/plain": [
       "[['Name',\n",
       "  'Joined',\n",
       "  'Address 1',\n",
       "  'Address 2',\n",
       "  'City',\n",
       "  'State',\n",
       "  'Zip Code',\n",
       "  'Subscriptions'],\n",
       " ['Bill',\n",
       "  '2015',\n",
       "  '12309 Scratch Tree Lane',\n",
       "  'Apt. 1',\n",
       "  'Beverly Hills',\n",
       "  'CA',\n",
       "  '90210',\n",
       "  'Little Known Hiss-tories podcast'],\n",
       " ['Pete',\n",
       "  '2018',\n",
       "  '501 Grumpy Street',\n",
       "  '',\n",
       "  'Long Beach',\n",
       "  'California',\n",
       "  '90803',\n",
       "  'Leisure Cats magazine, Little Known Hiss-tories podcast']]"
      ]
     },
     "metadata": {},
     "execution_count": 24
    }
   ],
   "metadata": {}
  },
  {
   "cell_type": "markdown",
   "source": [
    "### Final Activity\n",
    "\n",
    "Use a loop and a function to create a personalized message for each member of the *International Cats of Mystery* service from the text file parsed in the previous cell. The personalized message should use this template:\n",
    "\n",
    "> *Hello **[member name]**, Thank you for being a valued member for the last **[member's years of membership]** years. We have an exclusive discount on our **[member's top subscription with the service]**.*"
   ],
   "metadata": {}
  },
  {
   "cell_type": "code",
   "execution_count": 25,
   "source": [
    "# Create a function that takes in a member's information in the form of the\n",
    "# parsed data from the \"international_cats_of_mystery.txt\" file and returns a\n",
    "# personalized message\n",
    "def personalized_message(member_info):\n",
    "    name = member_info[0]\n",
    "    member_years = 2021 - int(member_info[1])\n",
    "    top_subscription = member_info[2].split(\",\")[0]\n",
    "    return (\"Hello \" + name\n",
    "    + \", Thank you for being a valued member for the last \" + str(member_years)\n",
    "    + \" years. We have an exclusive discount on our \" + top_subscription)"
   ],
   "outputs": [],
   "metadata": {}
  },
  {
   "cell_type": "code",
   "execution_count": 26,
   "source": [
    "# Loop through the parsed data from the \"international_cats_of_mystery.txt\" file\n",
    "# and print a personalized message for each member\n",
    "for member in member_data[2:]:\n",
    "    print(personalized_message(member))"
   ],
   "outputs": [
    {
     "output_type": "stream",
     "name": "stdout",
     "text": [
      "Hello Pete, Thank you for being a valued member for the last 3 years. We have an exclusive discount on our 501 Grumpy Street\n",
      "Hello Bob, Thank you for being a valued member for the last 2 years. We have an exclusive discount on our 62 Ocean Catch Way\n",
      "Hello Carla, Thank you for being a valued member for the last 15 years. We have an exclusive discount on our 2120 Curious Court\n",
      "Hello Jose, Thank you for being a valued member for the last 1 years. We have an exclusive discount on our 10036 Sunny Spot Avenue\n",
      "Hello Ali, Thank you for being a valued member for the last 14 years. We have an exclusive discount on our 143 Right Meow Place\n",
      "Hello Marcus, Thank you for being a valued member for the last 2 years. We have an exclusive discount on our 21 Bird Watch Circle\n",
      "Hello Tanvi, Thank you for being a valued member for the last 4 years. We have an exclusive discount on our 4532 Tiny Mouse Street\n",
      "Hello Lian, Thank you for being a valued member for the last 13 years. We have an exclusive discount on our 3132 Goldfish Lane\n",
      "Hello Arturo, Thank you for being a valued member for the last 7 years. We have an exclusive discount on our 5120 Kibbler Blvd.\n",
      "Hello Silvia, Thank you for being a valued member for the last 12 years. We have an exclusive discount on our 17001 Kling Street\n",
      "Hello Celine, Thank you for being a valued member for the last 14 years. We have an exclusive discount on our 2124 Bermuda Street\n",
      "Hello Omar, Thank you for being a valued member for the last 13 years. We have an exclusive discount on our 9 Catnado Way\n",
      "Hello Niko, Thank you for being a valued member for the last 5 years. We have an exclusive discount on our 4246 Scruffy Way\n",
      "Hello Remi, Thank you for being a valued member for the last 1 years. We have an exclusive discount on our 3207 W. 2nd Street\n",
      "Hello Klaus, Thank you for being a valued member for the last 8 years. We have an exclusive discount on our 5939 Friendly Ave.\n",
      "Hello Estaban, Thank you for being a valued member for the last 13 years. We have an exclusive discount on our 72 Laser Lane\n",
      "Hello Dallas, Thank you for being a valued member for the last 2 years. We have an exclusive discount on our 5525 E. Atlantic Katz Highway\n",
      "Hello Darci, Thank you for being a valued member for the last 14 years. We have an exclusive discount on our 3836 Sleepy Place\n",
      "Hello Koko, Thank you for being a valued member for the last 5 years. We have an exclusive discount on our 5844 Perchcrest Court\n",
      "Hello Mango, Thank you for being a valued member for the last 12 years. We have an exclusive discount on our 202 Cuddle Ave.\n",
      "Hello Freya, Thank you for being a valued member for the last 1 years. We have an exclusive discount on our 3532 Lazyport Circle.\n",
      "Hello Big Guy, Thank you for being a valued member for the last 3 years. We have an exclusive discount on our 3932 Parrot Cove Blvd\n",
      "Hello Fluffy, Thank you for being a valued member for the last 8 years. We have an exclusive discount on our 504 Catfish Swamp Road\n",
      "Hello Squeaky, Thank you for being a valued member for the last 14 years. We have an exclusive discount on our 21 Kitten Mews Drive\n"
     ]
    }
   ],
   "metadata": {}
  },
  {
   "cell_type": "markdown",
   "source": [
    "## Further resources and topics\n",
    "\n",
    "### Filled version of this notebook\n",
    "\n",
    "[Introduction to Programming with Python - Part 3 filled notebook](https://colab.research.google.com/github/NCSU-Libraries/data-viz-workshops/blob/master/Introduction_to_Programming_with_Python/Introduction_to_Programming_with_Python_2_filled.ipynb) - a version of this notebook with all code filled in for the guided activity and exercises.\n",
    "TODO - update this link\n",
    "\n",
    "### Python Open Labs\n",
    "\n",
    "Join us next time for the start of the Python Open Labs, which will cover the Pandas data ayalysis library. The format for the Open Labs will include a short lesson demonstrating a topic and extended time for practice activities and discussion.\n",
    "\n",
    "### Resources\n",
    "\n",
    "- [A Byte of Python](https://python.swaroopch.com/) is a great intro book and reference for Python\n",
    "- [Official Python documentation and tutorials](https://docs.python.org/3/)\n",
    "- [Real Python](https://realpython.com/) contains a lot of different tutorials at different levels\n",
    "- [LinkedIn Learning](https://www.lynda.com/Python-training-tutorials/415-0.html) is free with NC State accounts and contains several video series for learning Python\n",
    "- [Dataquest](https://www.dataquest.io/) is a free then paid series of courses with an emphasis on data science\n",
    "\n",
    "### Topics\n",
    "\n",
    "- Other data structures: sets, tuples\n",
    "- Libraries, packages, and pip\n",
    "- Virtual environments\n",
    "- Text editors and local execution environments\n",
    "- The object-oriented paradigm in Python: classes, methods\n",
    "\n",
    "### Installing Python \n",
    "\n",
    "There are quite a few ways to install Python on your own computer, including the [official Python downloads](https://www.python.org/downloads/) and the very popular data-science focused [Anaconda Python distribution](https://www.anaconda.com/products/individual). Depending on your operating system, how you want to write code, and what type of projects you might work on, there are other approaches as well, such as using [pyenv](https://github.com/pyenv/pyenv) and [poetry](https://python-poetry.org/). If you're not sure which approach to take, feel free to get in touch and we'll talk through options and help you get set up. \n",
    "\n",
    "### Popular editors for Python\n",
    "\n",
    "Today we've been writing and running code in Google Colab, which is one particular version of Jupyter Notebooks. Depending on your projects and what you're working on, you may want to write your code in a text editor. While there are many options, if you're just getting started we recommend [Visual Studio Code](https://code.visualstudio.com/) for any operating system but are happy to talk through other editors.\n"
   ],
   "metadata": {}
  },
  {
   "cell_type": "markdown",
   "source": [
    "## Further resources and topics\n",
    "\n",
    "#### Unfilled version of this notebook\n",
    "\n",
    "[Introduction to Programming with Python - Part 3 unfilled notebook](https://colab.research.google.com/github/ncsu-libraries-data-vis/introduction-to-programming-with-python/blob/main/Introduction_to_Programming_with_Python_3.ipynb) - a version of this notebook without code filled in for the guided activity and exercises. Use the unfilled version to learn these materials or lead a workshop session.\n",
    "\n",
    "### Resources\n",
    "\n",
    "- [A Byte of Python](https://python.swaroopch.com/) is a great intro book and reference for Python\n",
    "- [Official Python documentation and tutorials](https://docs.python.org/3/)\n",
    "- [Real Python](https://realpython.com/) contains a lot of different tutorials at different levels\n",
    "- [LinkedIn Learning](https://www.lynda.com/Python-training-tutorials/415-0.html) is free with NC State accounts and contains several video series for learning Python\n",
    "- [Dataquest](https://www.dataquest.io/) is a free then paid series of courses with an emphasis on data science\n",
    "\n",
    "### Topics\n",
    "\n",
    "- Other data structures: sets, tuples\n",
    "- Libraries, packages, and pip\n",
    "- Virtual environments\n",
    "- Text editors and local execution environments\n",
    "- The object-oriented paradigm in Python: classes, methods\n",
    "\n",
    "### Installing Python \n",
    "\n",
    "There are quite a few ways to install Python on your own computer, including the [official Python downloads](https://www.python.org/downloads/) and the very popular data-science focused [Anaconda Python distribution](https://www.anaconda.com/products/individual). Depending on your operating system, how you want to write code, and what type of projects you might work on, there are other approaches as well, such as using [pyenv](https://github.com/pyenv/pyenv) and [poetry](https://python-poetry.org/). If you're not sure which approach to take, feel free to get in touch and we'll talk through options and help you get set up. \n",
    "\n",
    "### Popular editors for Python\n",
    "\n",
    "Today we've been writing and running code in Google Colab, which is one particular version of Jupyter Notebooks. Depending on your projects and what you're working on, you may want to write your code in a text editor. While there are many options, if you're just getting started we recommend [Visual Studio Code](https://code.visualstudio.com/) for any operating system but are happy to talk through other editors.\n"
   ],
   "metadata": {}
  },
  {
   "cell_type": "markdown",
   "source": [
    "## Evaluation survey\n",
    "Please, spend 1 minute answering these questions that can help us a lot on future workshops. \n",
    "\n",
    "[go.ncsu.edu/dvs-eval](https://go.ncsu.edu/dvs-eval)"
   ],
   "metadata": {
    "id": "YjyTIZsdGI0D"
   }
  },
  {
   "cell_type": "markdown",
   "source": [
    "## Credits\n",
    "\n",
    "These materials were developed by Claire Cahoon and Walt Gurley from the NC State University Libraries. Materials are based on workshops by Scott Bailey, Ashley Evans Bandy, Natalia Lopez, Vincent Tompkins, Javier de la Rosa, Peter Broadwell, and Simon Wiles."
   ],
   "metadata": {
    "id": "y1yQcuLJGI0F"
   }
  },
  {
   "cell_type": "markdown",
   "source": [
    "## Additional Practice Activity:\n",
    "\n",
    "### Generate a dictionary and personalized messages using data from a file\n",
    "\n",
    "This activity incorporates concepts we have covered in all *Introduction to Programming with Python* workshops. Use the skills you have developed through your work on these materials as well as references to additional resources we provide to complete this extended activity.\n",
    "\n",
    "For this activity we have membership information for 25 members of the *International Cats of Mystery* service stored in the file `international_cats_of_mystery.txt`. The file is formatted as follows:\n",
    "\n",
    "1. Each line is seperated by a newline character (`\\n`)\n",
    "\n",
    "1. The first line in the file contains the data variable names (e.g., Name, Joined, Address 1,...)\n",
    "\n",
    "1. Each subsequent line contains the data variable values for one member (e.g., Bill, 2015, 12309 Scratch Tree Lane,...)\n",
    "\n",
    "1. Each variable name or value is seperated by semicolons (`;`)\n",
    "\n",
    "Our job is to read in the `international_cats_of_mystery.txt` file, parse the data, and format the data to create a list of dictionaries containing membership information that match the format:\n",
    "\n",
    "```python\n",
    "{'address 1': '12309 Scratch Tree Lane',\n",
    "  'address 2': 'Apt. 1',\n",
    "  'city': 'Beverly Hills',\n",
    "  'joined': 2015,\n",
    "  'name': 'Bill',\n",
    "  'state': 'CA',\n",
    "  'subscriptions': ['Little Known Hiss-tories podcast'],\n",
    "  'zip code': '90210'}\n",
    "```\n",
    "\n",
    "Once we have the data prepared we will generate the following personalized message for each member:\n",
    "\n",
    "> *Hello **[member name]**, Thank you for being a valued member of International Cats of Mystery for the last **[member's years of membership]** years. We have an exclusive discount on our **[member's top subscription with the service]**.*\n",
    "\n",
    "This is similar to the final activity in *Introduction to Programming with Python 1* except this time we will use a `for` loop to automate this process."
   ],
   "metadata": {}
  },
  {
   "cell_type": "code",
   "execution_count": 27,
   "source": [
    "# Fetch the text file for the final activity\n",
    "!curl https://raw.githubusercontent.com/NCSU-Libraries/data-viz-workshops/master/Introduction_to_Programming_with_Python/International_cats_of_mystery_US_chapter.txt -o international_cats_of_mystery.txt"
   ],
   "outputs": [
    {
     "output_type": "stream",
     "name": "stdout",
     "text": [
      "  % Total    % Received % Xferd  Average Speed   Time    Time     Time  Current\n",
      "                                 Dload  Upload   Total   Spent    Left  Speed\n",
      "100  2667  100  2667    0     0  11697      0 --:--:-- --:--:-- --:--:-- 11646\n"
     ]
    }
   ],
   "metadata": {}
  },
  {
   "cell_type": "code",
   "execution_count": 28,
   "source": [
    "# Read whole text file to preview contents\n",
    "with open('international_cats_of_mystery.txt', 'r') as f:\n",
    "    print(f.read())"
   ],
   "outputs": [
    {
     "output_type": "stream",
     "name": "stdout",
     "text": [
      "Name;Joined;Address 1;Address 2;City;State;Zip Code;Subscriptions\n",
      "Bill;2015;12309 Scratch Tree Lane;Apt. 1;Beverly Hills;CA;90210;Little Known Hiss-tories podcast\n",
      "Pete;2018;501 Grumpy Street;;Long Beach;California;90803;Leisure Cats magazine, Little Known Hiss-tories podcast\n",
      "Bob;2019;62 Ocean Catch Way;;Astoria;OR;97103;email newsletter\n",
      "Carla;2006;2120 Curious Court;unit B;Raleigh;North Carolina;27610;email newsletter, Cat Nips subscription box\n",
      "Jose;2020;10036 Sunny Spot Avenue;;Greensboro;NC;27502;Cat Nips subscription box, Little Known Hiss-tories podcast, Leisure Cats magazine\n",
      "Ali;2007;143 Right Meow Place;Apt. 2;Portland;ME;3901;email newsletter, Little Known Hiss-tories podcast\n",
      "Marcus;2019;21 Bird Watch Circle;;Austin;Texas;73301;Leisure Cats Magazine, Little Known Hiss-tories podcast\n",
      "Tanvi;2017;4532 Tiny Mouse Street;Unit D;Dallas;TX;73303;Little Known Hiss-tories podcast, Cat Nips subscription box\n",
      "Lian;2008;3132 Goldfish Lane;;Ithaca;NY;14850;email newsletter\n",
      "Arturo;2014;5120 Kibbler Blvd.;;New York;New York;10001;Leisure Cats magazine, email newsletter\n",
      "Silvia;2009;17001 Kling Street;;North Hollywood;CA;90812;Little Known Hiss-tories podcast,  Leisure Cats Magazine, email newsletter\n",
      "Celine;2007;2124 Bermuda Street;Apt. 3;San Francsico;California;94123;Cat Nips subscription box, Little Known Hiss-tories podcast, Leisure Cats magazine\n",
      "Omar;2008;9 Catnado Way;258;Bellevue;WA;98004;Little Known Hiss-tories podcast\n",
      "Niko;2016;4246 Scruffy Way;Apt. 19;Lincoln City;IN;47552;Leisure Cats magazine, Little Known Hiss-tories podcast, Cat Nips subscription box\n",
      "Remi;2020;3207 W. 2nd Street;;Las Vegas;NV;89128;Little Known Hiss-tories podcast\n",
      "Klaus;2013;5939 Friendly Ave.;Unit A;Miami;FL;33125;email newsletter\n",
      "Estaban;2008;72 Laser Lane;;Phoenix;AZ;85032;Leisure Cats magazine, email newsletter\n",
      "Dallas;2019;5525 E. Atlantic Katz Highway;;Saint Louis;MO;63116;Cat Nips subscription box, Little Known Hiss-tories podcast, Leisure Cats magazine\n",
      "Darci;2007;3836 Sleepy Place;231;Minneapolis;MN;55407;Leisure Cats magazine\n",
      "Koko;2016;5844 Perchcrest Court;;Germantown;TN;38138;email newsletter, Cat Nips subscription box\n",
      "Mango;2009;202 Cuddle Ave.;;Green River;UT;84525;Cat Nips subscription box \n",
      "Freya;2020;3532 Lazyport Circle.;;Buffalo;NY;14215;Leisure Cats magazine, email newsletter\n",
      "Big Guy;2018;3932 Parrot Cove Blvd;;Ely;NV;89301;Little Known Hiss-tories podcast\n",
      "Fluffy;2013;504 Catfish Swamp Road;;Villanova;PA;19085;Little Known Hiss-tories podcast, Cat Nips subscription box\n",
      "Squeaky;2007;21 Kitten Mews Drive;Apt. 21;Chicago;IL;60629;Leisure Cats magazine, Little Known Hiss-tories podcast, Cat Nips subscription box\n"
     ]
    }
   ],
   "metadata": {}
  },
  {
   "cell_type": "markdown",
   "source": [
    "### Read and parse data line by line and store in a list\n",
    "\n",
    "Read the membership information data file line by line, parse the string (remove the newline character and split based on semicolon), and store each line as a list in the empty list `data_from_file`.\n",
    "\n",
    "Tip: Remember the list method `append()` to append new items to a list"
   ],
   "metadata": {}
  },
  {
   "cell_type": "code",
   "execution_count": 29,
   "source": [
    "# Empty list to store data\n",
    "data_from_file = []\n",
    "\n",
    "# Read in text file line by line\n",
    "with open('international_cats_of_mystery.txt') as f:\n",
    "    for line in f:\n",
    "        line = line.rstrip('\\n')\n",
    "        data_from_file.append(line.split(';'))\n",
    "\n",
    "# Print data_from_file\n",
    "data_from_file[:3]"
   ],
   "outputs": [
    {
     "output_type": "execute_result",
     "data": {
      "text/plain": [
       "[['Name',\n",
       "  'Joined',\n",
       "  'Address 1',\n",
       "  'Address 2',\n",
       "  'City',\n",
       "  'State',\n",
       "  'Zip Code',\n",
       "  'Subscriptions'],\n",
       " ['Bill',\n",
       "  '2015',\n",
       "  '12309 Scratch Tree Lane',\n",
       "  'Apt. 1',\n",
       "  'Beverly Hills',\n",
       "  'CA',\n",
       "  '90210',\n",
       "  'Little Known Hiss-tories podcast'],\n",
       " ['Pete',\n",
       "  '2018',\n",
       "  '501 Grumpy Street',\n",
       "  '',\n",
       "  'Long Beach',\n",
       "  'California',\n",
       "  '90803',\n",
       "  'Leisure Cats magazine, Little Known Hiss-tories podcast']]"
      ]
     },
     "metadata": {},
     "execution_count": 29
    }
   ],
   "metadata": {}
  },
  {
   "cell_type": "markdown",
   "source": [
    "### Create member info dictionaries\n",
    "\n",
    "We now have a list containing one list per line from the file that we read (stored in `data_from_file`). We need to loop through the `data_from_file` list and use the variable names and values to create dictionaries containing each member's information.\n",
    "\n",
    "To do this we will loop over the lists containing data in `data_from_file` (`data_from_file[1:]`, remember the first list item containes the variable names), create an empty dictionary, and then use another loop to loop over a range of values the length of items in `data_from_file[0]` to create a dictionary for each member consisting of variable names (`data_from_file[0][i]`) and values (`data[i]`) as key, value pairs.\n",
    "\n",
    "```python\n",
    "member_info = []\n",
    "\n",
    "for data in data_from_file[1:]:\n",
    "    data_dict = {}\n",
    "    for i in range(len(data_from_file[0])):\n",
    "        data_dict[data_from_file[0][i]] = data[i]\n",
    "    member_info.append(data_dict)\n",
    "```"
   ],
   "metadata": {}
  },
  {
   "cell_type": "code",
   "execution_count": 30,
   "source": [
    "# Empty list to store dictionaries\n",
    "member_info = []\n",
    "\n",
    "# Loop over each data list from the parsed data\n",
    "for data in data_from_file[1:]:\n",
    "    data_dict = {}\n",
    "    for i in range(len(data_from_file[0])):\n",
    "        data_dict[data_from_file[0][i]] = data[i]\n",
    "    member_info.append(data_dict)\n",
    "\n",
    "# Print member_info\n",
    "member_info[:3]"
   ],
   "outputs": [
    {
     "output_type": "execute_result",
     "data": {
      "text/plain": [
       "[{'Name': 'Bill',\n",
       "  'Joined': '2015',\n",
       "  'Address 1': '12309 Scratch Tree Lane',\n",
       "  'Address 2': 'Apt. 1',\n",
       "  'City': 'Beverly Hills',\n",
       "  'State': 'CA',\n",
       "  'Zip Code': '90210',\n",
       "  'Subscriptions': 'Little Known Hiss-tories podcast'},\n",
       " {'Name': 'Pete',\n",
       "  'Joined': '2018',\n",
       "  'Address 1': '501 Grumpy Street',\n",
       "  'Address 2': '',\n",
       "  'City': 'Long Beach',\n",
       "  'State': 'California',\n",
       "  'Zip Code': '90803',\n",
       "  'Subscriptions': 'Leisure Cats magazine, Little Known Hiss-tories podcast'},\n",
       " {'Name': 'Bob',\n",
       "  'Joined': '2019',\n",
       "  'Address 1': '62 Ocean Catch Way',\n",
       "  'Address 2': '',\n",
       "  'City': 'Astoria',\n",
       "  'State': 'OR',\n",
       "  'Zip Code': '97103',\n",
       "  'Subscriptions': 'email newsletter'}]"
      ]
     },
     "metadata": {},
     "execution_count": 30
    }
   ],
   "metadata": {}
  },
  {
   "cell_type": "markdown",
   "source": [
    "The following cell uses list comprehension to perform the same operations as the previous cell. This is included to show a comparison of two methods for generating the same resultes. The list comprehension uses a `zip` function to create an iterable of paired tuples of variable names (from `data_from_file[0]`) and variable values from each member data row in `data_from_file` (i.e., `data_from_file[1:]`). The `dict()` function is then used to construct a dictionary from the output of `zip()`."
   ],
   "metadata": {}
  },
  {
   "cell_type": "code",
   "execution_count": 31,
   "source": [
    "# For list items starting at index 1 in data_lists create a dictionary of\n",
    "# variable names (data_lists[0]) and values as key, value pairs\n",
    "member_info = [dict(zip(data_from_file[0], values)) for values in data_from_file[1:]]\n",
    "\n",
    "member_info[:3]"
   ],
   "outputs": [
    {
     "output_type": "execute_result",
     "data": {
      "text/plain": [
       "[{'Name': 'Bill',\n",
       "  'Joined': '2015',\n",
       "  'Address 1': '12309 Scratch Tree Lane',\n",
       "  'Address 2': 'Apt. 1',\n",
       "  'City': 'Beverly Hills',\n",
       "  'State': 'CA',\n",
       "  'Zip Code': '90210',\n",
       "  'Subscriptions': 'Little Known Hiss-tories podcast'},\n",
       " {'Name': 'Pete',\n",
       "  'Joined': '2018',\n",
       "  'Address 1': '501 Grumpy Street',\n",
       "  'Address 2': '',\n",
       "  'City': 'Long Beach',\n",
       "  'State': 'California',\n",
       "  'Zip Code': '90803',\n",
       "  'Subscriptions': 'Leisure Cats magazine, Little Known Hiss-tories podcast'},\n",
       " {'Name': 'Bob',\n",
       "  'Joined': '2019',\n",
       "  'Address 1': '62 Ocean Catch Way',\n",
       "  'Address 2': '',\n",
       "  'City': 'Astoria',\n",
       "  'State': 'OR',\n",
       "  'Zip Code': '97103',\n",
       "  'Subscriptions': 'email newsletter'}]"
      ]
     },
     "metadata": {},
     "execution_count": 31
    }
   ],
   "metadata": {}
  },
  {
   "cell_type": "markdown",
   "source": [
    "### Convert the `Joined` key value from a string to an integer\n",
    "\n",
    "When we read in our file, all of the data was parsed as a string. We must convert any data that should be in another data type accordingly."
   ],
   "metadata": {}
  },
  {
   "cell_type": "code",
   "execution_count": 32,
   "source": [
    "# Test that value stored in 'Joined' is a string\n",
    "# for member in member_info:\n",
    "#     print(type(member['Joined']))\n",
    "\n",
    "# Convert the 'Joined' value to an integer for each member\n",
    "for member in member_info:\n",
    "    member['Joined'] = int(member['Joined'])\n",
    "\n",
    "member_info[:3]"
   ],
   "outputs": [
    {
     "output_type": "execute_result",
     "data": {
      "text/plain": [
       "[{'Name': 'Bill',\n",
       "  'Joined': 2015,\n",
       "  'Address 1': '12309 Scratch Tree Lane',\n",
       "  'Address 2': 'Apt. 1',\n",
       "  'City': 'Beverly Hills',\n",
       "  'State': 'CA',\n",
       "  'Zip Code': '90210',\n",
       "  'Subscriptions': 'Little Known Hiss-tories podcast'},\n",
       " {'Name': 'Pete',\n",
       "  'Joined': 2018,\n",
       "  'Address 1': '501 Grumpy Street',\n",
       "  'Address 2': '',\n",
       "  'City': 'Long Beach',\n",
       "  'State': 'California',\n",
       "  'Zip Code': '90803',\n",
       "  'Subscriptions': 'Leisure Cats magazine, Little Known Hiss-tories podcast'},\n",
       " {'Name': 'Bob',\n",
       "  'Joined': 2019,\n",
       "  'Address 1': '62 Ocean Catch Way',\n",
       "  'Address 2': '',\n",
       "  'City': 'Astoria',\n",
       "  'State': 'OR',\n",
       "  'Zip Code': '97103',\n",
       "  'Subscriptions': 'email newsletter'}]"
      ]
     },
     "metadata": {},
     "execution_count": 32
    }
   ],
   "metadata": {}
  },
  {
   "cell_type": "markdown",
   "source": [
    "### Fix state names using a defined function\n",
    "\n",
    "Some of the state names in our member info list are not formatted correctly as two letter abbreviations. We will create a function to fix the incorrectly formatted state names."
   ],
   "metadata": {}
  },
  {
   "cell_type": "code",
   "execution_count": 33,
   "source": [
    "# State abbreviations lookup\n",
    "state_abbreviations = {\n",
    "    'California': 'CA',\n",
    "    'New York': 'NY',\n",
    "    'North Carolina': 'NC',\n",
    "    'Texas': 'TX'\n",
    "}\n",
    "\n",
    "# Fix state names function\n",
    "def fix_state_name(member_state):\n",
    "    if len(member_state) > 2:\n",
    "        return state_abbreviations[member_state]\n",
    "    return member_state"
   ],
   "outputs": [],
   "metadata": {}
  },
  {
   "cell_type": "code",
   "execution_count": 34,
   "source": [
    "# Run the fix_state_format for each member in member_info\n",
    "for member in member_info:\n",
    "    member['State'] = fix_state_name(member['State'])\n",
    "\n",
    "member_info[:3]"
   ],
   "outputs": [
    {
     "output_type": "execute_result",
     "data": {
      "text/plain": [
       "[{'Name': 'Bill',\n",
       "  'Joined': 2015,\n",
       "  'Address 1': '12309 Scratch Tree Lane',\n",
       "  'Address 2': 'Apt. 1',\n",
       "  'City': 'Beverly Hills',\n",
       "  'State': 'CA',\n",
       "  'Zip Code': '90210',\n",
       "  'Subscriptions': 'Little Known Hiss-tories podcast'},\n",
       " {'Name': 'Pete',\n",
       "  'Joined': 2018,\n",
       "  'Address 1': '501 Grumpy Street',\n",
       "  'Address 2': '',\n",
       "  'City': 'Long Beach',\n",
       "  'State': 'CA',\n",
       "  'Zip Code': '90803',\n",
       "  'Subscriptions': 'Leisure Cats magazine, Little Known Hiss-tories podcast'},\n",
       " {'Name': 'Bob',\n",
       "  'Joined': 2019,\n",
       "  'Address 1': '62 Ocean Catch Way',\n",
       "  'Address 2': '',\n",
       "  'City': 'Astoria',\n",
       "  'State': 'OR',\n",
       "  'Zip Code': '97103',\n",
       "  'Subscriptions': 'email newsletter'}]"
      ]
     },
     "metadata": {},
     "execution_count": 34
    }
   ],
   "metadata": {}
  },
  {
   "cell_type": "markdown",
   "source": [
    "### Convert `Subscriptions` string to a list\n",
    "\n",
    "Finally, as our file was parsed as a string, the values contained in the `Subscriptions` key are not formatted as a list. We must convert the current string form to a list using the string function `split()`."
   ],
   "metadata": {}
  },
  {
   "cell_type": "code",
   "execution_count": 35,
   "source": [
    "# Convert the Subscriptions key value for each member to a list\n",
    "for member in member_info:\n",
    "    member['Subscriptions'] = member['Subscriptions'].split(',')\n",
    "\n",
    "member_info[:3]"
   ],
   "outputs": [
    {
     "output_type": "execute_result",
     "data": {
      "text/plain": [
       "[{'Name': 'Bill',\n",
       "  'Joined': 2015,\n",
       "  'Address 1': '12309 Scratch Tree Lane',\n",
       "  'Address 2': 'Apt. 1',\n",
       "  'City': 'Beverly Hills',\n",
       "  'State': 'CA',\n",
       "  'Zip Code': '90210',\n",
       "  'Subscriptions': ['Little Known Hiss-tories podcast']},\n",
       " {'Name': 'Pete',\n",
       "  'Joined': 2018,\n",
       "  'Address 1': '501 Grumpy Street',\n",
       "  'Address 2': '',\n",
       "  'City': 'Long Beach',\n",
       "  'State': 'CA',\n",
       "  'Zip Code': '90803',\n",
       "  'Subscriptions': ['Leisure Cats magazine',\n",
       "   ' Little Known Hiss-tories podcast']},\n",
       " {'Name': 'Bob',\n",
       "  'Joined': 2019,\n",
       "  'Address 1': '62 Ocean Catch Way',\n",
       "  'Address 2': '',\n",
       "  'City': 'Astoria',\n",
       "  'State': 'OR',\n",
       "  'Zip Code': '97103',\n",
       "  'Subscriptions': ['email newsletter']}]"
      ]
     },
     "metadata": {},
     "execution_count": 35
    }
   ],
   "metadata": {}
  },
  {
   "cell_type": "markdown",
   "source": [
    "### Use a `for` loop to generate a pesonalized message for each member\n",
    "\n",
    "Use the code cells below to write two functions that produce a personalized email with the provided membership information and then loop through the `member_info` list to produce this message for all members.\n",
    "\n",
    "Tips:\n",
    "\n",
    "- Define a function that calculates how many years someone has been a member - Define a second function that:\n",
    "  1. gets the member name,\n",
    "  1. calls the previous function to calculate their years of membership,\n",
    "  1. gets their most popular subscription,\n",
    "  1. and formats this information into a personalized message.\n",
    "\n",
    "- The year a member joined is an integer. Remember, you can only concatenate strings (recall the `str()` method)\n",
    "\n",
    "- Subscriptions are a list. Each member's subscriptions are listed from most popular to least popular."
   ],
   "metadata": {}
  },
  {
   "cell_type": "code",
   "execution_count": 36,
   "source": [
    "# Define a function that calculates membership years\n",
    "def calculate_member_years(year_joined):\n",
    "  return 2021 - year_joined"
   ],
   "outputs": [],
   "metadata": {}
  },
  {
   "cell_type": "markdown",
   "source": [
    "For reference, here is the message format again:\n",
    "> *Hello **[member name]**, Thank you for being a valued member of International Cats of Mystery for the last **[member's years of membership]** years. We have an exclusive discount on our **[member's top subscription with the service]**.*"
   ],
   "metadata": {}
  },
  {
   "cell_type": "code",
   "execution_count": 37,
   "source": [
    "# Define a function that creates the personalized message\n",
    "def create_message(member):\n",
    "  membership_years = calculate_member_years(member[\"Joined\"])\n",
    "  return (\"Hello \"\n",
    "    + member[\"Name\"]\n",
    "    + \", Thank you for being a valued member of International Cats of Mystery for the last \"\n",
    "    + str(membership_years)\n",
    "    + \" years. We have an exclusive discount on our \"\n",
    "    + member[\"Subscriptions\"][0])"
   ],
   "outputs": [],
   "metadata": {}
  },
  {
   "cell_type": "code",
   "execution_count": 38,
   "source": [
    "# Loop through the \"member_info\" list to produce the personalized message for\n",
    "# each member\n",
    "for member in member_info:\n",
    "    print(create_message(member))"
   ],
   "outputs": [
    {
     "output_type": "stream",
     "name": "stdout",
     "text": [
      "Hello Bill, Thank you for being a valued member of International Cats of Mystery for the last 6 years. We have an exclusive discount on our Little Known Hiss-tories podcast\n",
      "Hello Pete, Thank you for being a valued member of International Cats of Mystery for the last 3 years. We have an exclusive discount on our Leisure Cats magazine\n",
      "Hello Bob, Thank you for being a valued member of International Cats of Mystery for the last 2 years. We have an exclusive discount on our email newsletter\n",
      "Hello Carla, Thank you for being a valued member of International Cats of Mystery for the last 15 years. We have an exclusive discount on our email newsletter\n",
      "Hello Jose, Thank you for being a valued member of International Cats of Mystery for the last 1 years. We have an exclusive discount on our Cat Nips subscription box\n",
      "Hello Ali, Thank you for being a valued member of International Cats of Mystery for the last 14 years. We have an exclusive discount on our email newsletter\n",
      "Hello Marcus, Thank you for being a valued member of International Cats of Mystery for the last 2 years. We have an exclusive discount on our Leisure Cats Magazine\n",
      "Hello Tanvi, Thank you for being a valued member of International Cats of Mystery for the last 4 years. We have an exclusive discount on our Little Known Hiss-tories podcast\n",
      "Hello Lian, Thank you for being a valued member of International Cats of Mystery for the last 13 years. We have an exclusive discount on our email newsletter\n",
      "Hello Arturo, Thank you for being a valued member of International Cats of Mystery for the last 7 years. We have an exclusive discount on our Leisure Cats magazine\n",
      "Hello Silvia, Thank you for being a valued member of International Cats of Mystery for the last 12 years. We have an exclusive discount on our Little Known Hiss-tories podcast\n",
      "Hello Celine, Thank you for being a valued member of International Cats of Mystery for the last 14 years. We have an exclusive discount on our Cat Nips subscription box\n",
      "Hello Omar, Thank you for being a valued member of International Cats of Mystery for the last 13 years. We have an exclusive discount on our Little Known Hiss-tories podcast\n",
      "Hello Niko, Thank you for being a valued member of International Cats of Mystery for the last 5 years. We have an exclusive discount on our Leisure Cats magazine\n",
      "Hello Remi, Thank you for being a valued member of International Cats of Mystery for the last 1 years. We have an exclusive discount on our Little Known Hiss-tories podcast\n",
      "Hello Klaus, Thank you for being a valued member of International Cats of Mystery for the last 8 years. We have an exclusive discount on our email newsletter\n",
      "Hello Estaban, Thank you for being a valued member of International Cats of Mystery for the last 13 years. We have an exclusive discount on our Leisure Cats magazine\n",
      "Hello Dallas, Thank you for being a valued member of International Cats of Mystery for the last 2 years. We have an exclusive discount on our Cat Nips subscription box\n",
      "Hello Darci, Thank you for being a valued member of International Cats of Mystery for the last 14 years. We have an exclusive discount on our Leisure Cats magazine\n",
      "Hello Koko, Thank you for being a valued member of International Cats of Mystery for the last 5 years. We have an exclusive discount on our email newsletter\n",
      "Hello Mango, Thank you for being a valued member of International Cats of Mystery for the last 12 years. We have an exclusive discount on our Cat Nips subscription box \n",
      "Hello Freya, Thank you for being a valued member of International Cats of Mystery for the last 1 years. We have an exclusive discount on our Leisure Cats magazine\n",
      "Hello Big Guy, Thank you for being a valued member of International Cats of Mystery for the last 3 years. We have an exclusive discount on our Little Known Hiss-tories podcast\n",
      "Hello Fluffy, Thank you for being a valued member of International Cats of Mystery for the last 8 years. We have an exclusive discount on our Little Known Hiss-tories podcast\n",
      "Hello Squeaky, Thank you for being a valued member of International Cats of Mystery for the last 14 years. We have an exclusive discount on our Leisure Cats magazine\n"
     ]
    }
   ],
   "metadata": {}
  }
 ],
 "metadata": {
  "kernelspec": {
   "name": "python3",
   "display_name": "Python 3.8.5 64-bit ('base': conda)"
  },
  "language_info": {
   "codemirror_mode": {
    "name": "ipython",
    "version": 3
   },
   "file_extension": ".py",
   "mimetype": "text/x-python",
   "name": "python",
   "nbconvert_exporter": "python",
   "pygments_lexer": "ipython3",
   "version": "3.8.5"
  },
  "interpreter": {
   "hash": "0bb8fac8a0c82f4f5ccbcc488a26fe869e7789c40997937e38e89b37cd70a2e8"
  }
 },
 "nbformat": 4,
 "nbformat_minor": 4
}