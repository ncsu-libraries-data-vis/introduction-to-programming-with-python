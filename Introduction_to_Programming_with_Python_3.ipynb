{
 "cells": [
  {
   "cell_type": "markdown",
   "metadata": {},
   "source": [
    "# Introduction to Programming with Python - Part 3\n",
    "\n",
    "## Setup\n",
    "\n",
    "With this Google Colaboratory (Colab) notebook open, click the \"Copy to Drive\" button that appears in the menu bar. The notebook will then be attached to your own user account, so you can edit it in any way you like -- you can even take notes directly in the notebook.\n",
    "\n",
    "## Learning objectives\n",
    "\n",
    "By the end of our workshop today, we hope you'll build on basic Python syntax to understand functions and reading and writing files. With these in hand, you'll know enough to write and apply basic scripts and explore other features of the language.  \n",
    "\n",
    "## Today's Topics\n",
    "\n",
    "- Functions\n",
    "- Reading and writing files\n",
    "\n",
    "If you would like to learn more about data analysis using Python, we will explore these topics in our Python Open Lab series.\n",
    "\n",
    "For a reference to previous workshop content, you can access a version of the previous workshop materials with all example and exercise code completed in the [Introduction to Programming with Python - Part 1 filled notebook](https://colab.research.google.com/github/ncsu-libraries-data-vis/introduction-to-programming-with-python/blob/main/filled_Introduction_to_Programming_with_Python_1.ipynb) and [Introduction to Programming with Python - Part 2 filled notebook](https://colab.research.google.com/github/ncsu-libraries-data-vis/introduction-to-programming-with-python/blob/main/filled_Introduction_to_Programming_with_Python_2.ipynb).\n",
    "\n",
    "## Questions during the workshop\n",
    "\n",
    "Please feel free to ask questions throughout the workshop.\n",
    "\n",
    "We have a second instructor who will available during the workshop. They will answer as able, and will collect questions with answers that might help everyone to be answered at the end of the workshop."
   ]
  },
  {
   "cell_type": "markdown",
   "metadata": {},
   "source": [
    "## Functions\n",
    "\n",
    "At the most basic level, functions are chunks of reusable code. A function can optionally accept data, defined as parameters and passed in as arguments, and optionally return data.\n",
    "\n",
    "A function is declared using the generalized syntax:\n",
    "\n",
    "```python\n",
    "def function_name(parameter_1, parameter_2, parameter_3):\n",
    "    indented function code...\n",
    "    return value\n",
    "```\n",
    "\n",
    "To learn more about functions:\n",
    "\n",
    "- [\"Functions\" chapter of *A Byte of Python*](https://python.swaroopch.com/functions.html)\n",
    "- [Python documentation for defining functions](https://docs.python.org/3/tutorial/controlflow.html#defining-functions)"
   ]
  },
  {
   "cell_type": "code",
   "execution_count": null,
   "metadata": {},
   "outputs": [],
   "source": [
    "# Python built-in functions\n",
    "\n",
    "\n",
    "# Object methods\n"
   ]
  },
  {
   "cell_type": "code",
   "execution_count": null,
   "metadata": {
    "colab": {
     "base_uri": "https://localhost:8080/"
    },
    "executionInfo": {
     "elapsed": 265,
     "status": "ok",
     "timestamp": 1613508328055,
     "user": {
      "displayName": "Walt Gurley",
      "photoUrl": "https://lh3.googleusercontent.com/a-/AOh14Gg9eQ8NtdhzyTtyTqhb-4LANYN8W8pA7TUUhK54=s64",
      "userId": "03624837261806285415"
     },
     "user_tz": 300
    },
    "id": "DuPwMqK5A4BN",
    "outputId": "ea2c2b1c-7a76-404d-a7c9-e96f2964194b"
   },
   "outputs": [],
   "source": [
    "# Define a function named \"print_hello\" that prints out a hello message -- note\n",
    "# the use of indenting!\n",
    "\n",
    "# Call the print_hello function to run the code contained in the function\n",
    "\n",
    "\n",
    "# Print the type of the value returned from calling the print_hello function\n"
   ]
  },
  {
   "cell_type": "markdown",
   "metadata": {},
   "source": [
    "### Returning data from a function\n",
    "\n",
    "The `print_hello` function above does not return any data, it only calls a `print` function. We cannot do anything with this function beyond printing a message. We can use the special `return` keyword to return a value when a function is called."
   ]
  },
  {
   "cell_type": "code",
   "execution_count": null,
   "metadata": {},
   "outputs": [],
   "source": [
    "# Define a function named \"return_hello\" that returns a hello message\n",
    "\n",
    "\n",
    "# Call the return_hello function\n",
    "\n",
    "\n",
    "# Print the type of the return value of the return_hello function\n"
   ]
  },
  {
   "cell_type": "markdown",
   "metadata": {},
   "source": [
    "Return values can be stored in variables and used just like other values"
   ]
  },
  {
   "cell_type": "code",
   "execution_count": null,
   "metadata": {},
   "outputs": [],
   "source": [
    "# Store the return value of return_hello\n",
    "\n",
    "\n",
    "# Print it out\n"
   ]
  },
  {
   "cell_type": "markdown",
   "metadata": {},
   "source": [
    "### Function parameters\n",
    "\n",
    "A function can have defined parameters that serve as variables within the function code. Parameters are defined within the parentheses of a function definition and are separated by commas. When you call a function you provide the values, or arguments, in the same way."
   ]
  },
  {
   "cell_type": "code",
   "execution_count": null,
   "metadata": {},
   "outputs": [],
   "source": [
    "# Define a function named \"return_hello_personal\" that returns a personalized\n",
    "# hello message\n",
    "\n",
    "# Call the function with provided arguments\n"
   ]
  },
  {
   "cell_type": "markdown",
   "metadata": {},
   "source": [
    "Arguments passed to a function can be variables"
   ]
  },
  {
   "cell_type": "code",
   "execution_count": null,
   "metadata": {},
   "outputs": [],
   "source": [
    "# Define variables to pass into personalized hello message function\n",
    "\n",
    "\n",
    "# Call the personalized hello message function with the variables\n"
   ]
  },
  {
   "cell_type": "markdown",
   "metadata": {},
   "source": [
    "### Using functions\n",
    "\n",
    "Functions are useful for grouping long or complex code blocks that can to be used more than once."
   ]
  },
  {
   "cell_type": "code",
   "execution_count": null,
   "metadata": {},
   "outputs": [],
   "source": [
    "# Define a function that replaces periods with exclamation marks in a string\n",
    "\n",
    "\n",
    "# Call the function on a string that contains periods\n"
   ]
  },
  {
   "cell_type": "markdown",
   "metadata": {},
   "source": [
    "**Try it yourself:** Create a function named `add_nums` that takes two numbers as arguments and returns the results of adding these two numbers\n",
    "\n",
    "For example: `add_nums(2, 3)` should return `5`"
   ]
  },
  {
   "cell_type": "code",
   "execution_count": null,
   "metadata": {},
   "outputs": [],
   "source": [
    "# Define a function that returns the results of adding two numbers passed as \n",
    "# arguments\n",
    "\n",
    "# Call the function on two numbers"
   ]
  },
  {
   "cell_type": "markdown",
   "metadata": {},
   "source": [
    "**Bonus Try it yourself:** Create a function named `count_a` that takes a list of single letters and returns the count of the occurrence of the letter \"a\"\n",
    "\n",
    "For example: `count_a([\"a\", \"b\", \"a\"])` should return `2`\n"
   ]
  },
  {
   "cell_type": "code",
   "execution_count": null,
   "metadata": {},
   "outputs": [],
   "source": [
    "# Define a function that returns the count of \"a\"s in a list of letters\n",
    "\n",
    "# A list of letters to test your function\n",
    "test_list = [\"a\", \"b\", \"a\"]\n",
    "\n",
    "# Call the function on the provided list of letters\n"
   ]
  },
  {
   "cell_type": "markdown",
   "metadata": {},
   "source": [
    "## Reading and writing files\n",
    "\n",
    "Working with comma-separated and similar data files will be covered in a later workshop. It's worthwhile, however, to see how to read and write data or text to and from a file. We'll start with writing some text to a file, then explore how to read it."
   ]
  },
  {
   "cell_type": "markdown",
   "metadata": {},
   "source": [
    "### Write to a file"
   ]
  },
  {
   "cell_type": "code",
   "execution_count": null,
   "metadata": {},
   "outputs": [],
   "source": [
    "# Sample text to write to a file\n",
    "sample_text = \"\"\"Cats and kittens everywhere,\n",
    "Hundreds of cats,\n",
    "Thousands of cats,\n",
    "Millions and billions and trillions of cats.\"\"\"\n",
    "\n",
    "# Write the sample text to a file (test different open modes)\n",
    "\n",
    "    \n",
    "# You might sometimes see an older pattern:\n",
    "# f = open('lorem.txt', 'w')\n",
    "# f.write(sample_text)\n",
    "# f.close()"
   ]
  },
  {
   "cell_type": "markdown",
   "metadata": {},
   "source": [
    "You can check the \"Files\" tab in the column at left now to find the output file. If you don't see it click the \"refresh\" button."
   ]
  },
  {
   "cell_type": "markdown",
   "metadata": {},
   "source": [
    "### Read from a file"
   ]
  },
  {
   "cell_type": "code",
   "execution_count": null,
   "metadata": {},
   "outputs": [],
   "source": [
    "# Read the newly created file.\n"
   ]
  },
  {
   "cell_type": "markdown",
   "metadata": {},
   "source": [
    "You can also read a file line by line."
   ]
  },
  {
   "cell_type": "code",
   "execution_count": null,
   "metadata": {},
   "outputs": [],
   "source": [
    "# Read the file line by line\n"
   ]
  },
  {
   "cell_type": "markdown",
   "metadata": {},
   "source": [
    "**Try it yourself:** Write the text below to a file named `text.txt` and then read the file line by line"
   ]
  },
  {
   "cell_type": "code",
   "execution_count": null,
   "metadata": {},
   "outputs": [],
   "source": [
    "# Text to write to a file\n",
    "text = \"Line 1\\nLine 2\\nLine 3\\nLine 4\\nLine 5\"\n",
    "\n",
    "# Write the text to a file named \"text.txt\"\n",
    "\n",
    "\n",
    "# Read the new file just created line by line\n"
   ]
  },
  {
   "cell_type": "markdown",
   "metadata": {},
   "source": [
    "#### Parsing data read from a file\n",
    "\n",
    "External data we read into our application is often not formatted for our desired manipulations or analyses. We often have to parse the data from a file into a structure that is appropriate for manipulation or analysis.\n",
    "\n",
    "For example, if we want to analyze the text contained in each line from the `cat_text.txt` file we need to isolate each line and word from the text and create a dataset of individual words by line."
   ]
  },
  {
   "cell_type": "code",
   "execution_count": null,
   "metadata": {},
   "outputs": [],
   "source": [
    "# Create an empty list to store the data we will parse\n",
    "\n",
    "\n",
    "# Read in the cat_text file line by line\n",
    "\n",
    "\n",
    "# Print out the resulting list\n"
   ]
  },
  {
   "cell_type": "markdown",
   "metadata": {},
   "source": [
    "### Final Activity, Part 1: Parse a text file containing data seperated by semicolons\n",
    "\n",
    "We have membership information for 25 members of the *International Cats of Mystery* service stored in the file `international_cats_of_mystery.txt`. The file is formatted as follows:\n",
    "\n",
    "1. Each line is seperated by a newline character (\\n)\n",
    "\n",
    "1. The first line in the file contains the data variable names (e.g., Name, Joined, Address 1,...)\n",
    "\n",
    "1. Each subsequent line contains the data variable values for one member (e.g., Bill, 2015, 12309 Scratch Tree Lane,...)\n",
    "\n",
    "1. Each variable name or value is seperated by semicolons (;)\n",
    "\n",
    "Use a file parsing method to parse the `international_cats_of_mystery.txt` file to create a list that contains lists of values from each line in the file. The first two items in this list should be:\n",
    "\n",
    "```python\n",
    "[\n",
    "  ['Name', 'Joined', 'Address 1', 'Address 2', 'City', 'State', 'Zip Code', 'Subscriptions'],\n",
    "  ['Bill', '2015', '12309 Scratch Tree Lane', 'Apt. 1', 'Beverly Hills', 'CA', '90210', 'Little Known Hiss-tories podcast'],\n",
    "  ...\n",
    "]\n",
    "```"
   ]
  },
  {
   "cell_type": "code",
   "execution_count": null,
   "metadata": {},
   "outputs": [],
   "source": [
    "# Fetch the text file for the activity\n",
    "!curl https://raw.githubusercontent.com/ncsu-libraries-data-vis/introduction-to-programming-with-python/main/International_cats_of_mystery_US_chapter.txt -o international_cats_of_mystery.txt"
   ]
  },
  {
   "cell_type": "code",
   "execution_count": null,
   "metadata": {},
   "outputs": [],
   "source": [
    "# Create an empty list to hold the data\n",
    "\n",
    "\n",
    "# Read the \"international_cats_of_mystery.txt\" file line by line \n",
    "# and parse the data based on the semicolon seperator\n",
    "\n",
    "\n",
    "# Print out the list to examine the results\n"
   ]
  },
  {
   "cell_type": "markdown",
   "metadata": {},
   "source": [
    "### Final Activity, Part 2: Use a function and a for loop to print a message for each member from the parsed text file\n",
    "\n",
    "Use a loop and a function to create a personalized message for each member of the *International Cats of Mystery* service from the text file parsed in the previous cell. The personalized message should use this template:\n",
    "\n",
    "> *Hello **[member name]**, Thank you for being a valued member for the last **[member's years of membership]** years. We have an exclusive discount on our **[member's top subscription with the service]**.*"
   ]
  },
  {
   "cell_type": "code",
   "execution_count": null,
   "metadata": {},
   "outputs": [],
   "source": [
    "# Create a function that takes in a member's information in the form of the\n",
    "# parsed data from the \"international_cats_of_mystery.txt\" file and returns a\n",
    "# personalized message\n"
   ]
  },
  {
   "cell_type": "markdown",
   "metadata": {},
   "source": [
    "**Tip**: Remember that the first item in our membership list contains a list of the data variable names. We do not want to apply the personalized message function to this list of values. When you loop through the member data list you will want to skip over the first item (remember [list slicing](https://www.programiz.com/python-programming/examples/list-slicing))."
   ]
  },
  {
   "cell_type": "code",
   "execution_count": null,
   "metadata": {},
   "outputs": [],
   "source": [
    "# Loop through the parsed data from the \"international_cats_of_mystery.txt\" file\n",
    "# and print a personalized message for each member\n"
   ]
  },
  {
   "cell_type": "markdown",
   "metadata": {},
   "source": [
    "## Further resources and topics\n",
    "\n",
    "#### Filled version of this notebook\n",
    "\n",
    "[Introduction to Programming with Python - Part 3 filled notebook](https://colab.research.google.com/github/ncsu-libraries-data-vis/introduction-to-programming-with-python/blob/main/filled_Introduction_to_Programming_with_Python_3.ipynb) - a version of this notebook with code filled in for the guided activities and exercises. Use the filled version for reference and to check exercise solutions.\n",
    "\n",
    "### Resources\n",
    "\n",
    "- [A Byte of Python](https://python.swaroopch.com/) is a great intro book and reference for Python\n",
    "- [Official Python documentation and tutorials](https://docs.python.org/3/)\n",
    "- [Real Python](https://realpython.com/) contains a lot of different tutorials at different levels\n",
    "- [LinkedIn Learning](https://www.lynda.com/Python-training-tutorials/415-0.html) is free with NC State accounts and contains several video series for learning Python\n",
    "- [Dataquest](https://www.dataquest.io/) is a free then paid series of courses with an emphasis on data science\n",
    "\n",
    "### Topics\n",
    "\n",
    "- Other data structures: sets, tuples\n",
    "- Libraries, packages, and pip\n",
    "- Virtual environments\n",
    "- Text editors and local execution environments\n",
    "- The object-oriented paradigm in Python: classes, methods\n",
    "\n",
    "### Installing Python \n",
    "\n",
    "There are quite a few ways to install Python on your own computer, including the [official Python downloads](https://www.python.org/downloads/) and the very popular data-science focused [Anaconda Python distribution](https://www.anaconda.com/products/individual). Depending on your operating system, how you want to write code, and what type of projects you might work on, there are other approaches as well, such as using [pyenv](https://github.com/pyenv/pyenv) and [poetry](https://python-poetry.org/). If you're not sure which approach to take, feel free to get in touch and we'll talk through options and help you get set up. \n",
    "\n",
    "### Popular editors for Python\n",
    "\n",
    "Today we've been writing and running code in Google Colab, which is one particular version of Jupyter Notebooks. Depending on your projects and what you're working on, you may want to write your code in a text editor. While there are many options, if you're just getting started we recommend [Visual Studio Code](https://code.visualstudio.com/) for any operating system but are happy to talk through other editors.\n"
   ]
  },
  {
   "cell_type": "markdown",
   "metadata": {
    "id": "YjyTIZsdGI0D"
   },
   "source": [
    "## Evaluation survey\n",
    "Please, spend 1 minute answering these questions that can help us a lot on future workshops. \n",
    "\n",
    "[go.ncsu.edu/dvs-eval](https://go.ncsu.edu/dvs-eval)"
   ]
  },
  {
   "cell_type": "markdown",
   "metadata": {
    "id": "y1yQcuLJGI0F"
   },
   "source": [
    "## Credits\n",
    "\n",
    "These materials were developed by Claire Cahoon and Walt Gurley from the NC State University Libraries. Materials are based on workshops by Scott Bailey, Ashley Evans Bandy, Natalia Lopez, Vincent Tompkins, Javier de la Rosa, Peter Broadwell, and Simon Wiles."
   ]
  },
  {
   "cell_type": "markdown",
   "metadata": {},
   "source": [
    "## Additional Practice Activity:\n",
    "\n",
    "### Generate a dictionary and personalized messages using data from a file\n",
    "\n",
    "This activity incorporates concepts we have covered in all *Introduction to Programming with Python* workshops. Use the skills you have developed through your work on these materials as well as references to additional resources we provide to complete this extended activity.\n",
    "\n",
    "For this activity we have membership information for 25 members of the *International Cats of Mystery* service stored in the file `international_cats_of_mystery.txt`. The file is formatted as follows:\n",
    "\n",
    "1. Each line is seperated by a newline character (`\\n`)\n",
    "\n",
    "1. The first line in the file contains the data variable names (e.g., Name, Joined, Address 1,...)\n",
    "\n",
    "1. Each subsequent line contains the data variable values for one member (e.g., Bill, 2015, 12309 Scratch Tree Lane,...)\n",
    "\n",
    "1. Each variable name or value is seperated by semicolons (`;`)\n",
    "\n",
    "Our job is to read in the `international_cats_of_mystery.txt` file, parse the data, and format the data to create a list of dictionaries containing membership information that match the format:\n",
    "\n",
    "```python\n",
    "{'address 1': '12309 Scratch Tree Lane',\n",
    "  'address 2': 'Apt. 1',\n",
    "  'city': 'Beverly Hills',\n",
    "  'joined': 2015,\n",
    "  'name': 'Bill',\n",
    "  'state': 'CA',\n",
    "  'subscriptions': ['Little Known Hiss-tories podcast'],\n",
    "  'zip code': '90210'}\n",
    "```\n",
    "\n",
    "Once we have the data prepared we will generate the following personalized message for each member:\n",
    "\n",
    "> *Hello **[member name]**, Thank you for being a valued member of International Cats of Mystery for the last **[member's years of membership]** years. We have an exclusive discount on our **[member's top subscription with the service]**.*"
   ]
  },
  {
   "cell_type": "code",
   "execution_count": null,
   "metadata": {},
   "outputs": [],
   "source": [
    "# Fetch the text file for the final activity\n",
    "!curl https://raw.githubusercontent.com/NCSU-Libraries/data-viz-workshops/master/Introduction_to_Programming_with_Python/International_cats_of_mystery_US_chapter.txt -o international_cats_of_mystery.txt"
   ]
  },
  {
   "cell_type": "code",
   "execution_count": null,
   "metadata": {},
   "outputs": [],
   "source": [
    "# Read whole text file to preview contents\n"
   ]
  },
  {
   "cell_type": "markdown",
   "metadata": {},
   "source": [
    "### Read and parse data line by line and store in a list\n",
    "\n",
    "Read the membership information data file line by line, parse the string (remove the newline character and split based on semicolon), and store each line as a list in the empty list `data_from_file`.\n",
    "\n",
    "Tip: Remember the list method `append()` to append new items to a list"
   ]
  },
  {
   "cell_type": "code",
   "execution_count": null,
   "metadata": {},
   "outputs": [],
   "source": [
    "# Empty list to store data\n",
    "\n",
    "\n",
    "# Read in text file line by line and parse the data\n",
    "\n",
    "\n",
    "# Print data_from_file\n"
   ]
  },
  {
   "cell_type": "markdown",
   "metadata": {},
   "source": [
    "### Create member info dictionaries\n",
    "\n",
    "We now have a list containing one list per line from the file that we read (stored in `data_from_file`). We need to loop through the `data_from_file` list and use the variable names and values to create dictionaries containing each member's information.\n",
    "\n",
    "To do this we will loop over the lists containing data in `data_from_file` (`data_from_file[1:]`, remember the first list item containes the variable names), create an empty dictionary, and then use another loop to loop over a range of values the length of items in `data_from_file[0]` to create a dictionary for each member consisting of variable names (`data_from_file[0][i]`) and values (`data[i]`) as key, value pairs.\n",
    "\n",
    "```python\n",
    "member_info = []\n",
    "\n",
    "for data in data_from_file[1:]:\n",
    "    data_dict = {}\n",
    "    for i in range(len(data_from_file[0])):\n",
    "        data_dict[data_from_file[0][i]] = data[i]\n",
    "    member_info.append(data_dict)\n",
    "```"
   ]
  },
  {
   "cell_type": "code",
   "execution_count": null,
   "metadata": {},
   "outputs": [],
   "source": [
    "# Empty list to store dictionaries\n",
    "\n",
    "\n",
    "# Loop over each data list from the parsed data\n",
    "\n",
    "\n",
    "# Print member_info\n"
   ]
  },
  {
   "cell_type": "markdown",
   "metadata": {},
   "source": [
    "### Create member info dictionaries (list comprehension alternative)\n",
    "\n",
    "The following cell uses list comprehension to perform the same operations as the previous cell. This is included to show a comparison of two methods for generating the same resultes. The list comprehension uses a `zip` function to create an iterable of paired tuples of variable names (from `data_from_file[0]`) and variable values from each member data row in `data_from_file` (i.e., `data_from_file[1:]`). The `dict()` function is then used to construct a dictionary from the output of `zip()`."
   ]
  },
  {
   "cell_type": "code",
   "execution_count": null,
   "metadata": {},
   "outputs": [],
   "source": [
    "# For list items starting at index 1 in data_lists create a dictionary of\n",
    "# variable names (data_lists[0]) and values as key, value pairs\n",
    "member_info = [dict(zip(data_from_file[0], values)) for values in data_from_file[1:]]\n",
    "\n",
    "member_info[:3]"
   ]
  },
  {
   "cell_type": "markdown",
   "metadata": {},
   "source": [
    "### Convert the `Joined` key value from a string to an integer\n",
    "\n",
    "When we read in our file, all of the data was parsed as a string. We must convert any data that should be in another data type accordingly."
   ]
  },
  {
   "cell_type": "code",
   "execution_count": null,
   "metadata": {},
   "outputs": [],
   "source": [
    "# Test that value stored in 'Joined' is a string\n",
    "# for member in member_info:\n",
    "#     print(type(member['Joined']))\n",
    "\n",
    "# Convert the 'Joined' value to an integer for each member\n",
    "\n"
   ]
  },
  {
   "cell_type": "markdown",
   "metadata": {},
   "source": [
    "### Fix state names using a defined function\n",
    "\n",
    "Some of the state names in our member info list are not formatted correctly as two letter abbreviations. We will create a function to fix the incorrectly formatted state names."
   ]
  },
  {
   "cell_type": "code",
   "execution_count": null,
   "metadata": {},
   "outputs": [],
   "source": [
    "# State abbreviations lookup\n",
    "state_abbreviations = {\n",
    "    'California': 'CA',\n",
    "    'New York': 'NY',\n",
    "    'North Carolina': 'NC',\n",
    "    'Texas': 'TX'\n",
    "}\n",
    "\n",
    "# Fix state names function\n"
   ]
  },
  {
   "cell_type": "code",
   "execution_count": null,
   "metadata": {},
   "outputs": [],
   "source": [
    "# Run the fix_state_format for each member in member_info\n"
   ]
  },
  {
   "cell_type": "markdown",
   "metadata": {},
   "source": [
    "### Convert `Subscriptions` string to a list\n",
    "\n",
    "Finally, as our file was parsed as a string, the values contained in the `Subscriptions` key are not formatted as a list. We must convert the current string form to a list using the string function `split()`."
   ]
  },
  {
   "cell_type": "code",
   "execution_count": null,
   "metadata": {},
   "outputs": [],
   "source": [
    "# Convert the Subscriptions key value for each member to a list\n"
   ]
  },
  {
   "cell_type": "markdown",
   "metadata": {},
   "source": [
    "### Use a `for` loop to generate a pesonalized message for each member\n",
    "\n",
    "Use the code cells below to write two functions that produce a personalized email with the provided membership information and then loop through the `member_info` list to produce this message for all members.\n",
    "\n",
    "Tips:\n",
    "\n",
    "- Define a function that calculates how many years someone has been a member - Define a second function that:\n",
    "  1. gets the member name,\n",
    "  1. calls the previous function to calculate their years of membership,\n",
    "  1. gets their most popular subscription,\n",
    "  1. and formats this information into a personalized message.\n",
    "\n",
    "- The year a member joined is an integer. Remember, you can only concatenate strings (recall the `str()` method)\n",
    "\n",
    "- Subscriptions are a list. Each member's subscriptions are listed from most popular to least popular."
   ]
  },
  {
   "cell_type": "code",
   "execution_count": null,
   "metadata": {},
   "outputs": [],
   "source": [
    "# Define a function that calculates membership years\n"
   ]
  },
  {
   "cell_type": "markdown",
   "metadata": {},
   "source": [
    "For reference, here is the message format again:\n",
    "> *Hello **[member name]**, Thank you for being a valued member of International Cats of Mystery for the last **[member's years of membership]** years. We have an exclusive discount on our **[member's top subscription with the service]**.*"
   ]
  },
  {
   "cell_type": "code",
   "execution_count": null,
   "metadata": {},
   "outputs": [],
   "source": [
    "# Define a function that creates the personalized message\n"
   ]
  },
  {
   "cell_type": "code",
   "execution_count": null,
   "metadata": {},
   "outputs": [],
   "source": [
    "# Loop through the \"member_info\" list to produce the personalized message for\n",
    "# each member\n"
   ]
  }
 ],
 "metadata": {
  "interpreter": {
   "hash": "0bb8fac8a0c82f4f5ccbcc488a26fe869e7789c40997937e38e89b37cd70a2e8"
  },
  "kernelspec": {
   "display_name": "Python 3.8.5 64-bit ('base': conda)",
   "name": "python3"
  },
  "language_info": {
   "codemirror_mode": {
    "name": "ipython",
    "version": 3
   },
   "file_extension": ".py",
   "mimetype": "text/x-python",
   "name": "python",
   "nbconvert_exporter": "python",
   "pygments_lexer": "ipython3",
   "version": "3.8.5"
  }
 },
 "nbformat": 4,
 "nbformat_minor": 4
}
