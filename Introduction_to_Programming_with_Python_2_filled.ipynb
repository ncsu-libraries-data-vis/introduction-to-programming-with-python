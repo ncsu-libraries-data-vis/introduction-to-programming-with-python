{
 "cells": [
  {
   "cell_type": "markdown",
   "metadata": {
    "id": "tthj14biQ8PC"
   },
   "source": [
    "# Introduction to Programming with Python - Part 2\n",
    "\n",
    "##  Setup\n",
    "\n",
    "With this Google Colaboratory (Colab) notebook open, click the \"Copy to Drive\" button that appears in the menu bar. The notebook will then be attached to your own user account, so you can edit it in any way you like -- you can even take notes directly in the notebook.\n",
    "\n",
    "## Instructors\n",
    "\n",
    "- Ashley Evans Bandy\n",
    "- Claire Cahoon\n",
    "- Walt Gurley\n",
    "- Natalia Lopez\n",
    "\n",
    "## Learning objectives\n",
    "\n",
    "By the end of our workshop today, we hope you'll build on basic Python syntax to understand control flow and reading and writing files. With these in hand, you'll know enough to write and apply basic scripts and explore other features of the language.  \n",
    "\n",
    "## Today's Topics\n",
    "- Comparison operators\n",
    "- If statements\n",
    "- For loops\n",
    "- Reading and writing files\n",
    "\n",
    "If you would like to learn more about data analysis using Python, we will explore these topics in our Python open labs starting next week.\n",
    "\n",
    "For a reference to previous workshop content, you can access a version of the previous workshop materials with all example and exercise code completed in the [Introduction to Programming with Python - Part 1 filled notebook](https://colab.research.google.com/github/NCSU-Libraries/data-viz-workshops/blob/master/Introduction_to_Programming_with_Python/Introduction_to_Programming_with_Python_1_filled.ipynb).\n"
   ]
  },
  {
   "cell_type": "markdown",
   "metadata": {
    "id": "eHC3aUKKGIwM"
   },
   "source": [
    "## Zoom etiquette\n",
    "\n",
    "Please make sure that your mic is muted during the workshop."
   ]
  },
  {
   "cell_type": "markdown",
   "metadata": {
    "id": "EltGLYRoGIwN"
   },
   "source": [
    "## Questions during the workshop\n",
    "\n",
    "Please feel free to ask questions in the Zoom chat throughout the workshop.\n",
    "\n",
    "We have a second instructor who will be monitoring chat on Zoom. They will answer as able, and will collect questions with answers that might help everyone to be answered at the end of the workshop."
   ]
  },
  {
   "cell_type": "markdown",
   "metadata": {
    "id": "EXNouJI__sf2"
   },
   "source": [
    "## Jupyter Notebooks and Google Colaboratory\n",
    "\n",
    "We will be using Google Colabs in today's workshop. Jupyter notebooks are a way to write and run Python code in an interactive way. If you would like to know more about Colaboratory or how to use this tool, you can visit the [Welcome Notebook](https://colab.research.google.com/notebooks/welcome.ipynb).\n",
    "\n",
    "If you'd like to install a Python distribution locally, though, we're happy to help. Feel free to [get help from our graduate consultants](https://www.lib.ncsu.edu/dxl) or [schedule an appointment with Libraries staff](https://go.ncsu.edu/dvs-request)."
   ]
  },
  {
   "cell_type": "markdown",
   "metadata": {
    "id": "Lk20eiVAHIwv"
   },
   "source": [
    "## Control flow \n",
    "\n",
    "Control flow refers to statements that allow you to change the path of your program. Instead of executing each line of code in order, you can make decisions or move to different lines of code depending on different conditions.\n",
    "\n",
    "To learn more about control flow:\n",
    "\n",
    "- [\"Control Flow\" chapter of *A Byte of Python*](https://python.swaroopch.com/functions.html)\n",
    "- [Python documentation on control flow tools](https://docs.python.org/3/tutorial/controlflow.html)"
   ]
  },
  {
   "cell_type": "markdown",
   "metadata": {
    "id": "v-LYg5HFTqqS"
   },
   "source": [
    "### If Statements\n",
    "\n",
    "\"The if statement is used to check a condition: if the condition is true, we run a block of statements (called the if-block), else we process another block of statements (called the else-block). The else clause is optional.\" (From [\"Control Flow\" chapter of *A Byte of Python* includes a section on \"If Statements\"](https://python.swaroopch.com/functions.html))"
   ]
  },
  {
   "cell_type": "markdown",
   "metadata": {
    "id": "wtHp5Yf9o5mc"
   },
   "source": [
    "#### Comparison Operators\n",
    "\n",
    "Comparison operators are used to compare two values and return a value of `True` or `False`, a boolean data type.\n",
    "\n",
    "The following are Python comparison operators: `==`, `!=`, `>`, `<`, `>=`, `<=`"
   ]
  },
  {
   "cell_type": "code",
   "execution_count": null,
   "metadata": {
    "colab": {
     "base_uri": "https://localhost:8080/"
    },
    "executionInfo": {
     "elapsed": 454,
     "status": "ok",
     "timestamp": 1614190269667,
     "user": {
      "displayName": "Ashley Evans Bandy",
      "photoUrl": "https://lh3.googleusercontent.com/a-/AOh14GiEnggm2Xb6QnXpmQaXw4S5OovXByctlJmtN-OizA=s64",
      "userId": "14475997041039881783"
     },
     "user_tz": 300
    },
    "id": "ZVaOVYZwY_GJ",
    "outputId": "a0392bb4-4888-44b2-9b17-257c60f2d226"
   },
   "outputs": [
    {
     "data": {
      "text/plain": [
       "True"
      ]
     },
     "execution_count": 1,
     "metadata": {
      "tags": []
     },
     "output_type": "execute_result"
    }
   ],
   "source": [
    "# Compare numbers\n",
    "5 > 2\n",
    "5 == 2\n",
    "5 != 2\n",
    "5 >= 5"
   ]
  },
  {
   "cell_type": "code",
   "execution_count": null,
   "metadata": {
    "colab": {
     "base_uri": "https://localhost:8080/"
    },
    "id": "dbjij2HOZGYO",
    "outputId": "d1e14040-7e5e-4058-bbc0-3e67d8a6f9d0"
   },
   "outputs": [
    {
     "data": {
      "text/plain": [
       "False"
      ]
     },
     "execution_count": 25,
     "metadata": {
      "tags": []
     },
     "output_type": "execute_result"
    }
   ],
   "source": [
    "# Compare strings\n",
    "\"This string\" == \"This string\"\n",
    "\"This string\" == \"this string\""
   ]
  },
  {
   "cell_type": "code",
   "execution_count": null,
   "metadata": {
    "colab": {
     "base_uri": "https://localhost:8080/"
    },
    "id": "RcTJdQUpSmgY",
    "outputId": "ccdf7d86-df30-4c6e-f448-16b9577e751b"
   },
   "outputs": [
    {
     "data": {
      "text/plain": [
       "False"
      ]
     },
     "execution_count": 27,
     "metadata": {
      "tags": []
     },
     "output_type": "execute_result"
    }
   ],
   "source": [
    "# Compare other expressions using multiple data types\n",
    "len(\"cat\") > 5 - 2"
   ]
  },
  {
   "cell_type": "markdown",
   "metadata": {
    "id": "TIZ1-awbzbRF"
   },
   "source": [
    "**Try it yourself:** What is the result of this comparison?"
   ]
  },
  {
   "cell_type": "code",
   "execution_count": null,
   "metadata": {
    "id": "aT-bNlRwz7vG"
   },
   "outputs": [],
   "source": [
    "len([1, 2]) == 2"
   ]
  },
  {
   "cell_type": "markdown",
   "metadata": {
    "id": "KISb4TEqjZ7b"
   },
   "source": [
    "#### If, Else if, Else (`if`, `elif`, `else`)"
   ]
  },
  {
   "cell_type": "code",
   "execution_count": null,
   "metadata": {
    "colab": {
     "base_uri": "https://localhost:8080/"
    },
    "id": "EDJp21NoHIwv",
    "outputId": "ae92d0ac-34ca-4181-9810-22c50600a796"
   },
   "outputs": [
    {
     "name": "stdout",
     "output_type": "stream",
     "text": [
      "Who are you?\n"
     ]
    }
   ],
   "source": [
    "# If statements (conditional execution)\n",
    "cat_name = \"Bill\"\n",
    "\n",
    "# Print \"Hi Bob!\" if cat_name is \"Bob\"\n",
    "if cat_name == \"Bob\":\n",
    "    print(\"Hi Bob!\")\n",
    "# Add an else statment if the condition isn't met\n",
    "else:\n",
    "    print(\"Who are you?\")"
   ]
  },
  {
   "cell_type": "code",
   "execution_count": null,
   "metadata": {
    "colab": {
     "base_uri": "https://localhost:8080/"
    },
    "id": "NdAGrsNTHIwz",
    "outputId": "9979185f-a13b-4c01-8e96-32e6eacf4766"
   },
   "outputs": [
    {
     "name": "stdout",
     "output_type": "stream",
     "text": [
      "Who are you?\n"
     ]
    }
   ],
   "source": [
    "#You can use if, else if (\"elif\"), and else to specify more than one condition\n",
    "cat_name = \"Sally\"\n",
    "\n",
    "if cat_name == \"Bob\":\n",
    "    print(\"This is my cat Bob\")\n",
    "elif cat_name == \"Bill\":\n",
    "    print(\"This is my cat Bill\")\n",
    "else:\n",
    "    print(\"Who are you?\")"
   ]
  },
  {
   "cell_type": "code",
   "execution_count": null,
   "metadata": {
    "colab": {
     "base_uri": "https://localhost:8080/"
    },
    "id": "oM5eWA7bmdl5",
    "outputId": "65314e08-028a-4186-ed22-dfbf0702febd"
   },
   "outputs": [
    {
     "name": "stdout",
     "output_type": "stream",
     "text": [
      "This is my cat Bill\n"
     ]
    }
   ],
   "source": [
    "#You can also use logical operators (and, or, not) to evaluate expressions.\n",
    "cat_name = \"Bill\"\n",
    "\n",
    "if cat_name == \"Bob\" or cat_name == \"Bill\":\n",
    "    print(\"This is my cat \" + cat_name)\n",
    "else:\n",
    "    print(\"Who are you?\")"
   ]
  },
  {
   "cell_type": "code",
   "execution_count": null,
   "metadata": {
    "colab": {
     "base_uri": "https://localhost:8080/"
    },
    "id": "tsekt_Q0sK28",
    "outputId": "39ff0aeb-64e0-4f27-f2de-c10a2fe529ec"
   },
   "outputs": [
    {
     "name": "stdout",
     "output_type": "stream",
     "text": [
      "You are an adult Pete\n"
     ]
    }
   ],
   "source": [
    "# Greater than or less than can be used as part of an if statement \n",
    "cat_ages = {\n",
    "    \"Sally\": 5, \n",
    "    \"Bob\": 16,\n",
    "    \"Bill\": 1,\n",
    "    \"Carla\": 10,\n",
    "    \"Pete\": 3\n",
    "}\n",
    "\n",
    "# Pick a cat name from the cat_ages dictionary\n",
    "cat_name = \"Pete\"\n",
    "\n",
    "# Print a message based on the age range of a cat\n",
    "if cat_ages[cat_name] < 3:\n",
    "    print(\"You are a kitten \" + cat)\n",
    "elif cat_ages[cat_name] >= 3 and cat_ages[cat_name] < 10:\n",
    "    print(\"You are an adult \" + cat_name)\n",
    "else:\n",
    "    print(\"You are a senior cat \" + cat_name)"
   ]
  },
  {
   "cell_type": "markdown",
   "metadata": {
    "id": "iFI3csFFnNBX"
   },
   "source": [
    "#### Activity: Use `if` statements to create personalized messages (10 min)\n",
    "\n",
    "Write an if statement (`if`, `elif`, `else`) that includes an operator (`and`, `or`, `not`) to generate a message for members of the *International Cats of Mystery* service (member information is contained in the dictionaries below). The language of the message is dependant on the following criteria:\n",
    "\n",
    "If a someone has been a member for three years or more, and they have more than one subscription, then send them this message:\n",
    "\n",
    "> **[member name]**, as a loyal member, you are eligible for a special offer.\n",
    "\n",
    "Otherwise, send them this message:\n",
    "\n",
    "> **[member name]**, thank you for your membership. Are you subscribed to all of our channels?\n",
    "\n",
    "TIP: Note that the `joined` key in the member information dictionary contains the date that a member joined, not the number of membership years."
   ]
  },
  {
   "cell_type": "code",
   "execution_count": null,
   "metadata": {
    "id": "uDFVmAq5w2M3"
   },
   "outputs": [],
   "source": [
    "# Dictionaries containing individual member information for members of the\n",
    "# International Cats of Mystery service\n",
    "member_info_1 = {\"name\": \"Bill\", \n",
    "                 \"joined\": 2015, \n",
    "                 \"address 1\": \"12309 Scratch Tree Lane\", \n",
    "                 \"address 2\": \"Apt. 1\", \n",
    "                 \"city\": \"Beverly Hills\", \n",
    "                 \"state\": \"CA\", \n",
    "                 \"zip code\":\"90210\", \n",
    "                 \"subscriptions\" : ['Little Known Hiss-tories podcast']}\n",
    "member_info_2 = {\"name\": \"Pete\", \n",
    "                 \"joined\": 2018, \n",
    "                 \"address 1\": \"501 Grumpy Street\", \n",
    "                 \"address 2\": \"\", \n",
    "                 \"city\": \"Long Beach\", \n",
    "                 \"state\": \"California\", \n",
    "                 \"zip code\": \"90803\",\n",
    "                 \"subscriptions\" : ['Leisure Cats magazine','Little Known Hiss-tories podcast']}\n",
    "member_info_3 = {\"name\": \"Carla\", \n",
    "                 \"joined\": 2006, \n",
    "                 \"address 1\": \"2120 Curious Court\", \n",
    "                 \"address 2\": \"unit B\", \n",
    "                 \"city\": \"Raleigh\", \n",
    "                 \"state\": \"North Carolina\", \n",
    "                 \"zip code\": \"27610\", \n",
    "                 \"subscriptions\" : ['email newsletter', 'Cat Nips subscription box']}"
   ]
  },
  {
   "cell_type": "code",
   "execution_count": null,
   "metadata": {
    "colab": {
     "base_uri": "https://localhost:8080/"
    },
    "id": "FYlf0yAznK0q",
    "outputId": "09ef1e7f-d92e-4c74-f0f1-aac5a4bfb414"
   },
   "outputs": [
    {
     "name": "stdout",
     "output_type": "stream",
     "text": [
      "Carla, as a loyal member, you are eligible for a special offer.\n"
     ]
    }
   ],
   "source": [
    "# Check a member's years of membership and number of subscriptions and print a\n",
    "# message accordingly\n",
    "member = member_info_3\n",
    "\n",
    "if member[\"joined\"] <= 2018 and len(member[\"subscriptions\"]) > 1:\n",
    "    print(member[\"name\"] + \", as a loyal member, you are eligible for a special offer.\")\n",
    "else:\n",
    "    print(member[\"name\"] + \", thank you for your membership. Are you subscribed to all of our channels?\")"
   ]
  },
  {
   "cell_type": "markdown",
   "metadata": {
    "id": "lr8pMulVuGtl"
   },
   "source": [
    "#### Bonus Activity: If Statement\n",
    "\n",
    "If you have additional time after completing the previous activity try this bonus challenge. Write a similar if statement to the one above, but conisder how you might include an additional condition. The language of the message is dependant on the following revised criteria:\n",
    "\n",
    "If a someone has been a member for three years or more, and they have more than one subscription, then send them this message:\n",
    "\n",
    "> **[member name]**, as a loyal member, you are eligible for a special offer.\n",
    "\n",
    "If someone has been a member for three years or more, and they have more than one subscription, and they live in California then send them this message:\n",
    "\n",
    "> **[member name]**, thank you for being a loyal member.\n",
    "\n",
    "Otherwise, send them this message:\n",
    "\n",
    "> **[member name]**, thank you for your membership. Are you subscribed to all of our channels?\n",
    "\n",
    "TIP: While not covered previously, you can nest if statements, with one inside another as a way to write this code. Try looking up how to do nest if statements and note how the indentation might change."
   ]
  },
  {
   "cell_type": "code",
   "execution_count": null,
   "metadata": {
    "colab": {
     "base_uri": "https://localhost:8080/"
    },
    "id": "ZKCF5Kt91QtO",
    "outputId": "bdb6dada-cd8a-4b9e-ec1e-923c4f99d152"
   },
   "outputs": [
    {
     "name": "stdout",
     "output_type": "stream",
     "text": [
      "Pete, thank you for being a loyal member\n"
     ]
    }
   ],
   "source": [
    "# Check a member's years of membership, number of subscriptions, and state and\n",
    "# print a message accordingly\n",
    "member = member_info_2\n",
    "\n",
    "if member[\"joined\"] <= 2018 and len(member[\"subscriptions\"]) > 1:\n",
    "    if member[\"state\"] == \"CA\" or member[\"state\"] == \"California\":\n",
    "        print(member[\"name\"] + \", thank you for being a loyal member\")\n",
    "    else:\n",
    "        print(member[\"name\"] + \", as a loyal member, you are eligible for a special offer.\")\n",
    "else:\n",
    "    print(member[\"name\"] + \", thank you for your membership. Are you subscribed to all of our channels?\")"
   ]
  },
  {
   "cell_type": "markdown",
   "metadata": {
    "id": "Budxyg0zT4eK"
   },
   "source": [
    "### For loops\n",
    "\n",
    "For loops iterate over a sequence of objects and peform some sort of function. \n",
    "\n",
    "For example, a \"For loop\" can be used to go through a list of names, and evaluate whether each name is uppercase or not.\n",
    "\n",
    "- [Refer to the \"For loop\" section in \"Control Flow\" chapter of *A Byte of Python*](https://python.swaroopch.com/functions.html)"
   ]
  },
  {
   "cell_type": "code",
   "execution_count": null,
   "metadata": {
    "colab": {
     "base_uri": "https://localhost:8080/"
    },
    "id": "D0rVgXIxn8XS",
    "outputId": "e57b6f34-0a92-4ab0-827b-ae4e37db218d"
   },
   "outputs": [
    {
     "name": "stdout",
     "output_type": "stream",
     "text": [
      "0\n",
      "1\n",
      "2\n",
      "3\n",
      "4\n",
      "5\n"
     ]
    }
   ],
   "source": [
    "# Iterate over a range\n",
    "# The range function returns a sequence of numbers, you can specify the length, among other things.\n",
    "# Here, the range gives 6 numbers, starting at zero.\n",
    "for i in range(6):\n",
    "    print(i)"
   ]
  },
  {
   "cell_type": "code",
   "execution_count": null,
   "metadata": {
    "colab": {
     "base_uri": "https://localhost:8080/"
    },
    "id": "zXdkrbOFtOJo",
    "outputId": "e053a9c6-c70b-4be4-96d8-b56417db5e85"
   },
   "outputs": [
    {
     "name": "stdout",
     "output_type": "stream",
     "text": [
      "B\n",
      "i\n",
      "l\n",
      "l\n"
     ]
    }
   ],
   "source": [
    "# Iterate over a string\n",
    "for letter in \"Bill\":\n",
    "    print(letter)"
   ]
  },
  {
   "cell_type": "code",
   "execution_count": null,
   "metadata": {
    "colab": {
     "base_uri": "https://localhost:8080/"
    },
    "id": "quma-JNWHIw3",
    "outputId": "751daf19-a5a2-4736-8cfd-0cc946eefc5e"
   },
   "outputs": [
    {
     "name": "stdout",
     "output_type": "stream",
     "text": [
      "Bob 3\n",
      "Bill 4\n",
      "Pete 4\n",
      "Carla 5\n",
      "Sally 5\n"
     ]
    }
   ],
   "source": [
    "# For loops let you iterate over a list or other iterable object\n",
    "cat_names = [\"Bob\", \"Bill\", \"Pete\", \"Carla\", \"Sally\"]\n",
    "\n",
    "# Loop over the members of cat_names to print out the element and its length\n",
    "for name in cat_names:\n",
    "    print(name, len(name))"
   ]
  },
  {
   "cell_type": "code",
   "execution_count": null,
   "metadata": {
    "colab": {
     "base_uri": "https://localhost:8080/"
    },
    "id": "oMXUE6vQHIw5",
    "outputId": "f2ab818d-1b41-41c4-e1fd-f5d57e1bee2d"
   },
   "outputs": [
    {
     "name": "stdout",
     "output_type": "stream",
     "text": [
      "Bill\n",
      "Pete\n",
      "Carla\n",
      "Sally\n"
     ]
    }
   ],
   "source": [
    "# You can combine types of control flow\n",
    "for name in cat_names:\n",
    "    if len(name) > 3:\n",
    "        print(name)"
   ]
  },
  {
   "cell_type": "markdown",
   "metadata": {
    "id": "JzaZUzTEqrDj"
   },
   "source": [
    "### Activity: Test for correct member state names using a `for` loop and `if` statements (10 min)\n",
    "\n",
    "We have combined the individual membership information for each member of the *International Cats of Mystery* service into the list `members`. We need to determine if the `state` address listing for each member is formatted correctly as a two letter abbreviation (e.g., North Dakota should be listed as ND).\n",
    "\n",
    "Create a for loop to iterate over the list of members to test if each member's `state` address listing is formatted correctly as a two letter abbreviation. If it is correctly formatted, print out:\n",
    "\n",
    ">  State name correct for **[member name]**\n",
    "\n",
    "if it is not correctly formatted, print:\n",
    "\n",
    "> Fix **[member state]** for **[member name]**"
   ]
  },
  {
   "cell_type": "code",
   "execution_count": null,
   "metadata": {
    "colab": {
     "base_uri": "https://localhost:8080/"
    },
    "id": "H7TP80gtv5dc",
    "outputId": "b86b93a0-77af-425a-e766-56ba134d352b"
   },
   "outputs": [
    {
     "data": {
      "text/plain": [
       "[{'address 1': '12309 Scratch Tree Lane',\n",
       "  'address 2': 'Apt. 1',\n",
       "  'city': 'Beverly Hills',\n",
       "  'joined': 2015,\n",
       "  'name': 'Bill',\n",
       "  'state': 'CA',\n",
       "  'subscriptions': ['Little Known Hiss-tories podcast'],\n",
       "  'zip code': '90210'},\n",
       " {'address 1': '501 Grumpy Street',\n",
       "  'address 2': '',\n",
       "  'city': 'Long Beach',\n",
       "  'joined': 2018,\n",
       "  'name': 'Pete',\n",
       "  'state': 'California',\n",
       "  'subscriptions': ['Leisure Cats magazine',\n",
       "   'Little Known Hiss-tories podcast'],\n",
       "  'zip code': '90803'},\n",
       " {'address 1': '2120 Curious Court',\n",
       "  'address 2': 'unit B',\n",
       "  'city': 'Raleigh',\n",
       "  'joined': 2006,\n",
       "  'name': 'Carla',\n",
       "  'state': 'North Carolina',\n",
       "  'subscriptions': ['email newsletter', 'Cat Nips subscription box'],\n",
       "  'zip code': '27610'}]"
      ]
     },
     "execution_count": 51,
     "metadata": {
      "tags": []
     },
     "output_type": "execute_result"
    }
   ],
   "source": [
    "# Combine the member info from the first activity into a list\n",
    "members = [member_info_1, member_info_2, member_info_3]\n",
    "members"
   ]
  },
  {
   "cell_type": "code",
   "execution_count": null,
   "metadata": {
    "colab": {
     "base_uri": "https://localhost:8080/"
    },
    "id": "JSR57aaVvGoC",
    "outputId": "c6278d24-8b30-4a54-8120-18cb9af6d8ac"
   },
   "outputs": [
    {
     "name": "stdout",
     "output_type": "stream",
     "text": [
      "State name correct for Bill\n",
      "Fix California for Pete\n",
      "Fix North Carolina for Carla\n"
     ]
    }
   ],
   "source": [
    "# Loop over the member info contained in the list \"members\" to test if state\n",
    "# listing is correctly formatted\n",
    "for member in members:\n",
    "    if len(member[\"state\"]) > 2:\n",
    "        print(\"Fix \" + member[\"state\"] + \" for \" + member[\"name\"])\n",
    "    else:\n",
    "        print(\"State name correct for \" + member[\"name\"])"
   ]
  },
  {
   "cell_type": "markdown",
   "metadata": {
    "id": "l05ysCfYsQbp"
   },
   "source": [
    "### Control flow with functions"
   ]
  },
  {
   "cell_type": "code",
   "execution_count": null,
   "metadata": {
    "colab": {
     "base_uri": "https://localhost:8080/"
    },
    "id": "__UTmoBgscPV",
    "outputId": "feeec946-1cb2-463c-d2c8-a84f484ff4fc"
   },
   "outputs": [
    {
     "name": "stdout",
     "output_type": "stream",
     "text": [
      "State name correct for Bill\n",
      "Fix California for Pete\n",
      "Fix North Carolina for Carla\n"
     ]
    }
   ],
   "source": [
    "# Using a function in a for loop\n",
    "def check_state_format(member):\n",
    "    if len(member[\"state\"]) > 2:\n",
    "        return (\"Fix \" + member[\"state\"] + \" for \" + member[\"name\"])\n",
    "    return (\"State name correct for \" + member[\"name\"])\n",
    "\n",
    "for member in members:\n",
    "    print(check_state_format(member))"
   ]
  },
  {
   "cell_type": "markdown",
   "metadata": {
    "id": "Ay8ASNZ5Dhga"
   },
   "source": [
    "## 5 Minute Break"
   ]
  },
  {
   "cell_type": "markdown",
   "metadata": {
    "id": "aTFfhbLqT_fC"
   },
   "source": [
    "**ADVANCED: List Comprehensions**\n",
    "\n",
    "List comprehensions are a \"pythonic\" way of building lists in a compact manner"
   ]
  },
  {
   "cell_type": "code",
   "execution_count": null,
   "metadata": {
    "colab": {
     "base_uri": "https://localhost:8080/"
    },
    "id": "NY2cs8OyHIxA",
    "outputId": "1ecc8a8e-b294-48a9-928e-40abe128db79"
   },
   "outputs": [
    {
     "data": {
      "text/plain": [
       "[2, 3, 4, 5]"
      ]
     },
     "execution_count": 55,
     "metadata": {
      "tags": []
     },
     "output_type": "execute_result"
    }
   ],
   "source": [
    "# A list of numbers\n",
    "nums = [1, 2, 3, 4]\n",
    "\n",
    "# A function to add 1 to a number\n",
    "def add_one(n):\n",
    "    return n + 1\n",
    "\n",
    "# Create a new list applying the function add_one() to the values in nums\n",
    "[add_one(num) for num in nums]"
   ]
  },
  {
   "cell_type": "code",
   "execution_count": null,
   "metadata": {
    "colab": {
     "base_uri": "https://localhost:8080/"
    },
    "id": "_pB53kxgHIxD",
    "outputId": "c05506b0-c0f1-41e3-89ce-da70fc2226be"
   },
   "outputs": [
    {
     "data": {
      "text/plain": [
       "['bill', 'pete', 'carla', 'sally']"
      ]
     },
     "execution_count": 58,
     "metadata": {
      "tags": []
     },
     "output_type": "execute_result"
    }
   ],
   "source": [
    "# Using conditional statements in list comprehension\n",
    "cat_names\n",
    "\n",
    "# Create a new list of lowercase cat_names that are longer than 3 characters\n",
    "[cat_name.lower() for cat_name in cat_names if len(cat_name) > 3]"
   ]
  },
  {
   "cell_type": "markdown",
   "metadata": {
    "id": "QP45Owsdl4Df"
   },
   "source": []
  },
  {
   "cell_type": "markdown",
   "metadata": {
    "id": "5i7mNsRRKO5Q"
   },
   "source": []
  },
  {
   "cell_type": "code",
   "execution_count": null,
   "metadata": {
    "id": "QOj4Ix0dHIxL"
   },
   "outputs": [],
   "source": []
  },
  {
   "cell_type": "markdown",
   "metadata": {
    "id": "1ep7L8N2GIzt"
   },
   "source": []
  },
  {
   "cell_type": "markdown",
   "metadata": {
    "id": "DBY4rdGgKUoJ"
   },
   "source": []
  },
  {
   "cell_type": "code",
   "execution_count": null,
   "metadata": {
    "colab": {
     "base_uri": "https://localhost:8080/"
    },
    "id": "2K-9QtptHIxN",
    "outputId": "da25ff67-6db8-439e-c4cb-82f4d7a40a43"
   },
   "outputs": [
    {
     "name": "stdout",
     "output_type": "stream",
     "text": [
      "\n",
      "Cats and kittens everywhere,\n",
      "Hundreds of cats,\n",
      "Thousands of cats,\n",
      "Millions and billions and trillions of cats.\n",
      "\n"
     ]
    }
   ],
   "source": []
  },
  {
   "cell_type": "code",
   "execution_count": null,
   "metadata": {
    "colab": {
     "base_uri": "https://localhost:8080/"
    },
    "id": "yViwpBFMHIxO",
    "outputId": "da74e400-acc5-44a3-c98f-8c00cc2b91e5"
   },
   "outputs": [
    {
     "name": "stdout",
     "output_type": "stream",
     "text": [
      "END\n",
      "Cats and kittens everywhere,END\n",
      "Hundreds of cats,END\n",
      "Thousands of cats,END\n",
      "Millions and billions and trillions of cats.END\n"
     ]
    }
   ],
   "source": []
  },
  {
   "cell_type": "markdown",
   "metadata": {
    "id": "iDFVJVeT5Sq9"
   },
   "source": []
  },
  {
   "cell_type": "code",
   "execution_count": null,
   "metadata": {
    "colab": {
     "base_uri": "https://localhost:8080/"
    },
    "id": "r1gSoXrHEQcF",
    "outputId": "fe67808b-8c4a-43f7-c77e-7170bedcd85f"
   },
   "outputs": [
    {
     "data": {
      "text/plain": [
       "[[''],\n",
       " ['Cats', 'and', 'kittens', 'everywhere,'],\n",
       " ['Hundreds', 'of', 'cats,'],\n",
       " ['Thousands', 'of', 'cats,'],\n",
       " ['Millions', 'and', 'billions', 'and', 'trillions', 'of', 'cats.']]"
      ]
     },
     "execution_count": 70,
     "metadata": {
      "tags": []
     },
     "output_type": "execute_result"
    }
   ],
   "source": []
  },
  {
   "cell_type": "markdown",
   "metadata": {
    "id": "TikzixcJEcJ_"
   },
   "source": []
  },
  {
   "cell_type": "code",
   "execution_count": null,
   "metadata": {
    "colab": {
     "base_uri": "https://localhost:8080/"
    },
    "executionInfo": {
     "elapsed": 734,
     "status": "ok",
     "timestamp": 1614196345992,
     "user": {
      "displayName": "Ashley Evans Bandy",
      "photoUrl": "https://lh3.googleusercontent.com/a-/AOh14GiEnggm2Xb6QnXpmQaXw4S5OovXByctlJmtN-OizA=s64",
      "userId": "14475997041039881783"
     },
     "user_tz": 300
    },
    "id": "1-xAre88CGeP",
    "outputId": "47bcd690-ae85-4560-d217-5b69168d175a"
   },
   "outputs": [
    {
     "name": "stdout",
     "output_type": "stream",
     "text": [
      "  % Total    % Received % Xferd  Average Speed   Time    Time     Time  Current\n",
      "                                 Dload  Upload   Total   Spent    Left  Speed\n",
      "\r",
      "  0     0    0     0    0     0      0      0 --:--:-- --:--:-- --:--:--     0\r",
      "100  2667  100  2667    0     0  38652      0 --:--:-- --:--:-- --:--:-- 38652\n"
     ]
    }
   ],
   "source": []
  },
  {
   "cell_type": "code",
   "execution_count": null,
   "metadata": {
    "colab": {
     "base_uri": "https://localhost:8080/"
    },
    "executionInfo": {
     "elapsed": 324,
     "status": "ok",
     "timestamp": 1614196347938,
     "user": {
      "displayName": "Ashley Evans Bandy",
      "photoUrl": "https://lh3.googleusercontent.com/a-/AOh14GiEnggm2Xb6QnXpmQaXw4S5OovXByctlJmtN-OizA=s64",
      "userId": "14475997041039881783"
     },
     "user_tz": 300
    },
    "id": "DTxbwq5DHhGB",
    "outputId": "f2c8abbb-30c2-4fa2-805f-4cc2ef3afd1e"
   },
   "outputs": [
    {
     "data": {
      "text/plain": [
       "[['Name',\n",
       "  'Joined',\n",
       "  'Address 1',\n",
       "  'Address 2',\n",
       "  'City',\n",
       "  'State',\n",
       "  'Zip Code',\n",
       "  'Subscriptions'],\n",
       " ['Bill',\n",
       "  '2015',\n",
       "  '12309 Scratch Tree Lane',\n",
       "  'Apt. 1',\n",
       "  'Beverly Hills',\n",
       "  'CA',\n",
       "  '90210',\n",
       "  'Little Known Hiss-tories podcast'],\n",
       " ['Pete',\n",
       "  '2018',\n",
       "  '501 Grumpy Street',\n",
       "  '',\n",
       "  'Long Beach',\n",
       "  'California',\n",
       "  '90803',\n",
       "  'Leisure Cats magazine, Little Known Hiss-tories podcast']]"
      ]
     },
     "execution_count": 3,
     "metadata": {
      "tags": []
     },
     "output_type": "execute_result"
    }
   ],
   "source": []
  },
  {
   "cell_type": "markdown",
   "metadata": {
    "id": "dKDYF6FRkItl"
   },
   "source": []
  },
  {
   "cell_type": "code",
   "execution_count": null,
   "metadata": {
    "colab": {
     "base_uri": "https://localhost:8080/"
    },
    "id": "o9CNA8dQj9uT",
    "outputId": "c79a0924-15f2-45ae-faeb-3861b6432870"
   },
   "outputs": [
    {
     "name": "stdout",
     "output_type": "stream",
     "text": [
      "  % Total    % Received % Xferd  Average Speed   Time    Time     Time  Current\n",
      "                                 Dload  Upload   Total   Spent    Left  Speed\n",
      "100  2667  100  2667    0     0   7663      0 --:--:-- --:--:-- --:--:--  7641\n"
     ]
    }
   ],
   "source": []
  },
  {
   "cell_type": "code",
   "execution_count": null,
   "metadata": {
    "colab": {
     "base_uri": "https://localhost:8080/"
    },
    "id": "25ZNL8trkb8C",
    "outputId": "dab90adb-2fdf-4236-812f-1fb5bae6fd0c"
   },
   "outputs": [
    {
     "name": "stdout",
     "output_type": "stream",
     "text": [
      "Name;Joined;Address 1;Address 2;City;State;Zip Code;Subscriptions\n",
      "Bill;2015;12309 Scratch Tree Lane;Apt. 1;Beverly Hills;CA;90210;Little Known Hiss-tories podcast\n",
      "Pete;2018;501 Grumpy Street;;Long Beach;California;90803;Leisure Cats magazine, Little Known Hiss-tories podcast\n",
      "Bob;2019;62 Ocean Catch Way;;Astoria;OR;97103;email newsletter\n",
      "Carla;2006;2120 Curious Court;unit B;Raleigh;North Carolina;27610;email newsletter, Cat Nips subscription box\n",
      "Jose;2020;10036 Sunny Spot Avenue;;Greensboro;NC;27502;Cat Nips subscription box, Little Known Hiss-tories podcast, Leisure Cats magazine\n",
      "Ali;2007;143 Right Meow Place;Apt. 2;Portland;ME;3901;email newsletter, Little Known Hiss-tories podcast\n",
      "Marcus;2019;21 Bird Watch Circle;;Austin;Texas;73301;Leisure Cats Magazine, Little Known Hiss-tories podcast\n",
      "Tanvi;2017;4532 Tiny Mouse Street;Unit D;Dallas;TX;73303;Little Known Hiss-tories podcast, Cat Nips subscription box\n",
      "Lian;2008;3132 Goldfish Lane;;Ithaca;NY;14850;email newsletter\n",
      "Arturo;2014;5120 Kibbler Blvd.;;New York;New York;10001;Leisure Cats magazine, email newsletter\n",
      "Silvia;2009;17001 Kling Street;;North Hollywood;CA;90812;Little Known Hiss-tories podcast,  Leisure Cats Magazine, email newsletter\n",
      "Celine;2007;2124 Bermuda Street;Apt. 3;San Francsico;California;94123;Cat Nips subscription box, Little Known Hiss-tories podcast, Leisure Cats magazine\n",
      "Omar;2008;9 Catnado Way;258;Bellevue;WA;98004;Little Known Hiss-tories podcast\n",
      "Niko;2016;4246 Scruffy Way;Apt. 19;Lincoln City;IN;47552;Leisure Cats magazine, Little Known Hiss-tories podcast, Cat Nips subscription box\n",
      "Remi;2020;3207 W. 2nd Street;;Las Vegas;NV;89128;Little Known Hiss-tories podcast\n",
      "Klaus;2013;5939 Friendly Ave.;Unit A;Miami;FL;33125;email newsletter\n",
      "Estaban;2008;72 Laser Lane;;Phoenix;AZ;85032;Leisure Cats magazine, email newsletter\n",
      "Dallas;2019;5525 E. Atlantic Katz Highway;;Saint Louis;MO;63116;Cat Nips subscription box, Little Known Hiss-tories podcast, Leisure Cats magazine\n",
      "Darci;2007;3836 Sleepy Place;231;Minneapolis;MN;55407;Leisure Cats magazine\n",
      "Koko;2016;5844 Perchcrest Court;;Germantown;TN;38138;email newsletter, Cat Nips subscription box\n",
      "Mango;2009;202 Cuddle Ave.;;Green River;UT;84525;Cat Nips subscription box \n",
      "Freya;2020;3532 Lazyport Circle.;;Buffalo;NY;14215;Leisure Cats magazine, email newsletter\n",
      "Big Guy;2018;3932 Parrot Cove Blvd;;Ely;NV;89301;Little Known Hiss-tories podcast\n",
      "Fluffy;2013;504 Catfish Swamp Road;;Villanova;PA;19085;Little Known Hiss-tories podcast, Cat Nips subscription box\n",
      "Squeaky;2007;21 Kitten Mews Drive;Apt. 21;Chicago;IL;60629;Leisure Cats magazine, Little Known Hiss-tories podcast, Cat Nips subscription box\n"
     ]
    }
   ],
   "source": []
  },
  {
   "cell_type": "markdown",
   "metadata": {
    "id": "ZZTvGnOADDVI"
   },
   "source": []
  },
  {
   "cell_type": "code",
   "execution_count": null,
   "metadata": {
    "colab": {
     "base_uri": "https://localhost:8080/"
    },
    "id": "aIvDt06YDDVK",
    "outputId": "b2d424e0-4e1c-48a8-ad46-99a21542681a"
   },
   "outputs": [
    {
     "data": {
      "text/plain": [
       "[['Name',\n",
       "  'Joined',\n",
       "  'Address 1',\n",
       "  'Address 2',\n",
       "  'City',\n",
       "  'State',\n",
       "  'Zip Code',\n",
       "  'Subscriptions'],\n",
       " ['Bill',\n",
       "  '2015',\n",
       "  '12309 Scratch Tree Lane',\n",
       "  'Apt. 1',\n",
       "  'Beverly Hills',\n",
       "  'CA',\n",
       "  '90210',\n",
       "  'Little Known Hiss-tories podcast'],\n",
       " ['Pete',\n",
       "  '2018',\n",
       "  '501 Grumpy Street',\n",
       "  '',\n",
       "  'Long Beach',\n",
       "  'California',\n",
       "  '90803',\n",
       "  'Leisure Cats magazine, Little Known Hiss-tories podcast']]"
      ]
     },
     "execution_count": 13,
     "metadata": {
      "tags": []
     },
     "output_type": "execute_result"
    }
   ],
   "source": []
  },
  {
   "cell_type": "markdown",
   "metadata": {
    "id": "HB-8ASd2DDVL"
   },
   "source": []
  },
  {
   "cell_type": "code",
   "execution_count": null,
   "metadata": {
    "colab": {
     "base_uri": "https://localhost:8080/"
    },
    "id": "JtgnGywGDDVL",
    "outputId": "3968907d-055a-4c8a-979f-5ae7f45849d7"
   },
   "outputs": [
    {
     "data": {
      "text/plain": [
       "[{'Address 1': '12309 Scratch Tree Lane',\n",
       "  'Address 2': 'Apt. 1',\n",
       "  'City': 'Beverly Hills',\n",
       "  'Joined': '2015',\n",
       "  'Name': 'Bill',\n",
       "  'State': 'CA',\n",
       "  'Subscriptions': 'Little Known Hiss-tories podcast',\n",
       "  'Zip Code': '90210'},\n",
       " {'Address 1': '501 Grumpy Street',\n",
       "  'Address 2': '',\n",
       "  'City': 'Long Beach',\n",
       "  'Joined': '2018',\n",
       "  'Name': 'Pete',\n",
       "  'State': 'California',\n",
       "  'Subscriptions': 'Leisure Cats magazine, Little Known Hiss-tories podcast',\n",
       "  'Zip Code': '90803'},\n",
       " {'Address 1': '62 Ocean Catch Way',\n",
       "  'Address 2': '',\n",
       "  'City': 'Astoria',\n",
       "  'Joined': '2019',\n",
       "  'Name': 'Bob',\n",
       "  'State': 'OR',\n",
       "  'Subscriptions': 'email newsletter',\n",
       "  'Zip Code': '97103'}]"
      ]
     },
     "execution_count": 14,
     "metadata": {
      "tags": []
     },
     "output_type": "execute_result"
    }
   ],
   "source": []
  },
  {
   "cell_type": "markdown",
   "metadata": {
    "id": "9VqGUxS9DDVL"
   },
   "source": []
  },
  {
   "cell_type": "code",
   "execution_count": null,
   "metadata": {
    "colab": {
     "base_uri": "https://localhost:8080/"
    },
    "id": "ObUh9WHDDDVL",
    "outputId": "c35e677e-3cd9-42fb-adbc-441aa5f5882c"
   },
   "outputs": [
    {
     "data": {
      "text/plain": [
       "[{'Address 1': '12309 Scratch Tree Lane',\n",
       "  'Address 2': 'Apt. 1',\n",
       "  'City': 'Beverly Hills',\n",
       "  'Joined': '2015',\n",
       "  'Name': 'Bill',\n",
       "  'State': 'CA',\n",
       "  'Subscriptions': 'Little Known Hiss-tories podcast',\n",
       "  'Zip Code': '90210'},\n",
       " {'Address 1': '501 Grumpy Street',\n",
       "  'Address 2': '',\n",
       "  'City': 'Long Beach',\n",
       "  'Joined': '2018',\n",
       "  'Name': 'Pete',\n",
       "  'State': 'California',\n",
       "  'Subscriptions': 'Leisure Cats magazine, Little Known Hiss-tories podcast',\n",
       "  'Zip Code': '90803'},\n",
       " {'Address 1': '62 Ocean Catch Way',\n",
       "  'Address 2': '',\n",
       "  'City': 'Astoria',\n",
       "  'Joined': '2019',\n",
       "  'Name': 'Bob',\n",
       "  'State': 'OR',\n",
       "  'Subscriptions': 'email newsletter',\n",
       "  'Zip Code': '97103'}]"
      ]
     },
     "execution_count": 15,
     "metadata": {
      "tags": []
     },
     "output_type": "execute_result"
    }
   ],
   "source": []
  },
  {
   "cell_type": "markdown",
   "metadata": {
    "id": "Fqsp6_38Un-C"
   },
   "source": []
  },
  {
   "cell_type": "code",
   "execution_count": null,
   "metadata": {
    "colab": {
     "base_uri": "https://localhost:8080/"
    },
    "id": "9nqZ_70IUyq2",
    "outputId": "b6f3bbde-1392-4461-f07f-dfc577d73775"
   },
   "outputs": [
    {
     "data": {
      "text/plain": [
       "[{'Address 1': '12309 Scratch Tree Lane',\n",
       "  'Address 2': 'Apt. 1',\n",
       "  'City': 'Beverly Hills',\n",
       "  'Joined': 2015,\n",
       "  'Name': 'Bill',\n",
       "  'State': 'CA',\n",
       "  'Subscriptions': 'Little Known Hiss-tories podcast',\n",
       "  'Zip Code': '90210'},\n",
       " {'Address 1': '501 Grumpy Street',\n",
       "  'Address 2': '',\n",
       "  'City': 'Long Beach',\n",
       "  'Joined': 2018,\n",
       "  'Name': 'Pete',\n",
       "  'State': 'California',\n",
       "  'Subscriptions': 'Leisure Cats magazine, Little Known Hiss-tories podcast',\n",
       "  'Zip Code': '90803'},\n",
       " {'Address 1': '62 Ocean Catch Way',\n",
       "  'Address 2': '',\n",
       "  'City': 'Astoria',\n",
       "  'Joined': 2019,\n",
       "  'Name': 'Bob',\n",
       "  'State': 'OR',\n",
       "  'Subscriptions': 'email newsletter',\n",
       "  'Zip Code': '97103'}]"
      ]
     },
     "execution_count": 17,
     "metadata": {
      "tags": []
     },
     "output_type": "execute_result"
    }
   ],
   "source": []
  },
  {
   "cell_type": "markdown",
   "metadata": {
    "id": "eyqNLXWvTvFk"
   },
   "source": []
  },
  {
   "cell_type": "code",
   "execution_count": null,
   "metadata": {
    "id": "w7B8zqeT2ghf"
   },
   "outputs": [],
   "source": []
  },
  {
   "cell_type": "code",
   "execution_count": null,
   "metadata": {
    "colab": {
     "base_uri": "https://localhost:8080/"
    },
    "id": "LAZfnJLKlsm-",
    "outputId": "6703d34d-8787-4864-996d-5d5e3de9d08f"
   },
   "outputs": [
    {
     "data": {
      "text/plain": [
       "[{'Address 1': '12309 Scratch Tree Lane',\n",
       "  'Address 2': 'Apt. 1',\n",
       "  'City': 'Beverly Hills',\n",
       "  'Joined': 2015,\n",
       "  'Name': 'Bill',\n",
       "  'State': 'CA',\n",
       "  'Subscriptions': 'Little Known Hiss-tories podcast',\n",
       "  'Zip Code': '90210'},\n",
       " {'Address 1': '501 Grumpy Street',\n",
       "  'Address 2': '',\n",
       "  'City': 'Long Beach',\n",
       "  'Joined': 2018,\n",
       "  'Name': 'Pete',\n",
       "  'State': 'CA',\n",
       "  'Subscriptions': 'Leisure Cats magazine, Little Known Hiss-tories podcast',\n",
       "  'Zip Code': '90803'},\n",
       " {'Address 1': '62 Ocean Catch Way',\n",
       "  'Address 2': '',\n",
       "  'City': 'Astoria',\n",
       "  'Joined': 2019,\n",
       "  'Name': 'Bob',\n",
       "  'State': 'OR',\n",
       "  'Subscriptions': 'email newsletter',\n",
       "  'Zip Code': '97103'}]"
      ]
     },
     "execution_count": 21,
     "metadata": {
      "tags": []
     },
     "output_type": "execute_result"
    }
   ],
   "source": []
  },
  {
   "cell_type": "markdown",
   "metadata": {
    "id": "jULhS16zUba8"
   },
   "source": []
  },
  {
   "cell_type": "code",
   "execution_count": null,
   "metadata": {
    "colab": {
     "base_uri": "https://localhost:8080/"
    },
    "id": "rQ1-6qQgl824",
    "outputId": "0c6dc916-6fff-440e-e508-d47c20d7abc2"
   },
   "outputs": [
    {
     "data": {
      "text/plain": [
       "[{'Address 1': '12309 Scratch Tree Lane',\n",
       "  'Address 2': 'Apt. 1',\n",
       "  'City': 'Beverly Hills',\n",
       "  'Joined': 2015,\n",
       "  'Name': 'Bill',\n",
       "  'State': 'CA',\n",
       "  'Subscriptions': ['Little Known Hiss-tories podcast'],\n",
       "  'Zip Code': '90210'},\n",
       " {'Address 1': '501 Grumpy Street',\n",
       "  'Address 2': '',\n",
       "  'City': 'Long Beach',\n",
       "  'Joined': 2018,\n",
       "  'Name': 'Pete',\n",
       "  'State': 'CA',\n",
       "  'Subscriptions': ['Leisure Cats magazine',\n",
       "   ' Little Known Hiss-tories podcast'],\n",
       "  'Zip Code': '90803'},\n",
       " {'Address 1': '62 Ocean Catch Way',\n",
       "  'Address 2': '',\n",
       "  'City': 'Astoria',\n",
       "  'Joined': 2019,\n",
       "  'Name': 'Bob',\n",
       "  'State': 'OR',\n",
       "  'Subscriptions': ['email newsletter'],\n",
       "  'Zip Code': '97103'}]"
      ]
     },
     "execution_count": 22,
     "metadata": {
      "tags": []
     },
     "output_type": "execute_result"
    }
   ],
   "source": []
  },
  {
   "cell_type": "markdown",
   "metadata": {
    "id": "BZkehr9-PjhS"
   },
   "source": []
  },
  {
   "cell_type": "code",
   "execution_count": null,
   "metadata": {
    "id": "Cq6nQd13lGWZ"
   },
   "outputs": [],
   "source": []
  },
  {
   "cell_type": "markdown",
   "metadata": {
    "id": "y1JxW3nncdS5"
   },
   "source": []
  },
  {
   "cell_type": "code",
   "execution_count": null,
   "metadata": {
    "id": "7IoVC_ptWMkX"
   },
   "outputs": [],
   "source": []
  },
  {
   "cell_type": "code",
   "execution_count": null,
   "metadata": {
    "colab": {
     "base_uri": "https://localhost:8080/"
    },
    "id": "8vKp8Pb20lAz",
    "outputId": "bd2055a0-50de-40f1-9377-1107589525fa"
   },
   "outputs": [
    {
     "name": "stdout",
     "output_type": "stream",
     "text": [
      "Hello Bill, Thank you for being a valued member of International Cats of Mystery for the last 6 years. We have an exclusive discount on our Little Known Hiss-tories podcast\n",
      "Hello Pete, Thank you for being a valued member of International Cats of Mystery for the last 3 years. We have an exclusive discount on our Leisure Cats magazine\n",
      "Hello Bob, Thank you for being a valued member of International Cats of Mystery for the last 2 years. We have an exclusive discount on our email newsletter\n",
      "Hello Carla, Thank you for being a valued member of International Cats of Mystery for the last 15 years. We have an exclusive discount on our email newsletter\n",
      "Hello Jose, Thank you for being a valued member of International Cats of Mystery for the last 1 years. We have an exclusive discount on our Cat Nips subscription box\n",
      "Hello Ali, Thank you for being a valued member of International Cats of Mystery for the last 14 years. We have an exclusive discount on our email newsletter\n",
      "Hello Marcus, Thank you for being a valued member of International Cats of Mystery for the last 2 years. We have an exclusive discount on our Leisure Cats Magazine\n",
      "Hello Tanvi, Thank you for being a valued member of International Cats of Mystery for the last 4 years. We have an exclusive discount on our Little Known Hiss-tories podcast\n",
      "Hello Lian, Thank you for being a valued member of International Cats of Mystery for the last 13 years. We have an exclusive discount on our email newsletter\n",
      "Hello Arturo, Thank you for being a valued member of International Cats of Mystery for the last 7 years. We have an exclusive discount on our Leisure Cats magazine\n",
      "Hello Silvia, Thank you for being a valued member of International Cats of Mystery for the last 12 years. We have an exclusive discount on our Little Known Hiss-tories podcast\n",
      "Hello Celine, Thank you for being a valued member of International Cats of Mystery for the last 14 years. We have an exclusive discount on our Cat Nips subscription box\n",
      "Hello Omar, Thank you for being a valued member of International Cats of Mystery for the last 13 years. We have an exclusive discount on our Little Known Hiss-tories podcast\n",
      "Hello Niko, Thank you for being a valued member of International Cats of Mystery for the last 5 years. We have an exclusive discount on our Leisure Cats magazine\n",
      "Hello Remi, Thank you for being a valued member of International Cats of Mystery for the last 1 years. We have an exclusive discount on our Little Known Hiss-tories podcast\n",
      "Hello Klaus, Thank you for being a valued member of International Cats of Mystery for the last 8 years. We have an exclusive discount on our email newsletter\n",
      "Hello Estaban, Thank you for being a valued member of International Cats of Mystery for the last 13 years. We have an exclusive discount on our Leisure Cats magazine\n",
      "Hello Dallas, Thank you for being a valued member of International Cats of Mystery for the last 2 years. We have an exclusive discount on our Cat Nips subscription box\n",
      "Hello Darci, Thank you for being a valued member of International Cats of Mystery for the last 14 years. We have an exclusive discount on our Leisure Cats magazine\n",
      "Hello Koko, Thank you for being a valued member of International Cats of Mystery for the last 5 years. We have an exclusive discount on our email newsletter\n",
      "Hello Mango, Thank you for being a valued member of International Cats of Mystery for the last 12 years. We have an exclusive discount on our Cat Nips subscription box \n",
      "Hello Freya, Thank you for being a valued member of International Cats of Mystery for the last 1 years. We have an exclusive discount on our Leisure Cats magazine\n",
      "Hello Big Guy, Thank you for being a valued member of International Cats of Mystery for the last 3 years. We have an exclusive discount on our Little Known Hiss-tories podcast\n",
      "Hello Fluffy, Thank you for being a valued member of International Cats of Mystery for the last 8 years. We have an exclusive discount on our Little Known Hiss-tories podcast\n",
      "Hello Squeaky, Thank you for being a valued member of International Cats of Mystery for the last 14 years. We have an exclusive discount on our Leisure Cats magazine\n"
     ]
    }
   ],
   "source": []
  },
  {
   "cell_type": "markdown",
   "metadata": {
    "id": "FgsqJZovHIxS"
   },
   "source": [
    "## Further resources and topics\n",
    "\n",
    "### Filled version of this notebook\n",
    "\n",
    "[Introduction to Programming with Python - Part 2 filled notebook](https://colab.research.google.com/github/NCSU-Libraries/data-viz-workshops/blob/master/Introduction_to_Programming_with_Python/Introduction_to_Programming_with_Python_2_filled.ipynb) - a version of this notebook with all code filled in for the guided activity and exercises.\n",
    "\n",
    "### Resources\n",
    "\n",
    "- [A Byte of Python](https://python.swaroopch.com/) is a great intro book and reference for Python\n",
    "- [Official Python documentation and tutorials](https://docs.python.org/3/)\n",
    "- [Real Python](https://realpython.com/) contains a lot of different tutorials at different levels\n",
    "- [LinkedIn Learning](https://www.lynda.com/Python-training-tutorials/415-0.html) is free with NC State accounts and contains several video series for learning Python\n",
    "- [Dataquest](https://www.dataquest.io/) is a free then paid series of courses with an emphasis on data science\n",
    "\n",
    "### Topics\n",
    "\n",
    "- Other data structures: sets, tuples\n",
    "- Libraries, packages, and pip\n",
    "- Virtual environments\n",
    "- Text editors and local execution environments\n",
    "- The object-oriented paradigm in Python: classes, methods\n",
    "\n",
    "### Installing Python \n",
    "\n",
    "There are quite a few ways to install Python on your own computer, including the [official Python downloads](https://www.python.org/downloads/) and the very popular data-science focused [Anaconda Python distribution](https://www.anaconda.com/products/individual). Depending on your operating system, how you want to write code, and what type of projects you might work on, there are other approaches as well, such as using [pyenv](https://github.com/pyenv/pyenv) and [poetry](https://python-poetry.org/). If you're not sure which approach to take, feel free to get in touch and we'll talk through options and help you get set up. \n",
    "\n",
    "### Popular editors for Python\n",
    "\n",
    "Today we've been writing and running code in Google Colab, which is one particular version of Jupyter Notebooks. Depending on your projects and what you're working on, you may want to write your code in a text editor. While there are many options, if you're just getting started we recommend [Visual Studio Code](https://code.visualstudio.com/) for any operating system but are happy to talk through other editors.\n"
   ]
  },
  {
   "cell_type": "markdown",
   "metadata": {
    "id": "YjyTIZsdGI0D"
   },
   "source": [
    "## Evaluation survey\n",
    "Please, spend 1 minute answering these questions that can help us a lot on future workshops. \n",
    "\n",
    "https://go.ncsu.edu/dvs-eval"
   ]
  },
  {
   "cell_type": "markdown",
   "metadata": {
    "id": "y1yQcuLJGI0F"
   },
   "source": [
    "## Credits\n",
    "\n",
    "This workshop was developed by Scott Bailey, Ashley Evans Bandy, Claire Cahoon, Walt Gurley, and Natalia Lopez from the NC State University Libraries. Materials are based on workshops by Scott Bailey, Vincent Tompkins, Javier de la Rosa, Peter Broadwell, and Simon Wiles."
   ]
  }
 ],
 "metadata": {
  "colab": {
   "collapsed_sections": [],
   "name": "Introduction_to_Programming_with_Python_2_filled.ipynb",
   "provenance": [],
   "toc_visible": true
  },
  "kernelspec": {
   "display_name": "Python 3",
   "language": "python",
   "name": "python3"
  },
  "language_info": {
   "codemirror_mode": {
    "name": "ipython",
    "version": 3
   },
   "file_extension": ".py",
   "mimetype": "text/x-python",
   "name": "python",
   "nbconvert_exporter": "python",
   "pygments_lexer": "ipython3",
   "version": "3.8.5"
  }
 },
 "nbformat": 4,
 "nbformat_minor": 1
}
